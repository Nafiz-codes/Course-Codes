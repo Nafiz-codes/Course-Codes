{
  "nbformat": 4,
  "nbformat_minor": 0,
  "metadata": {
    "colab": {
      "provenance": []
    },
    "kernelspec": {
      "name": "python3",
      "display_name": "Python 3"
    },
    "language_info": {
      "name": "python"
    }
  },
  "cells": [
    {
      "cell_type": "code",
      "source": [
        "class BankAccount:\n",
        "  def __init__(self, user_name, account, balance=0):\n",
        "    self.user_name= user_name  #instance attribute\n",
        "    self.account_type= account\n",
        "    self.balance= balance\n",
        "  def balance(self,balance):\n",
        "    self.balance=balance\n",
        "\n",
        "\n",
        "account1 = BankAccount(\"Bilbo\", \"Savings\")\n",
        "account1.balance= 15.75\n",
        "\n",
        "\n",
        "\n",
        "\n",
        "\n",
        "print(\"=====================================\")\n",
        "print(f\"User Name: {account1.user_name}\")\n",
        "print(f\"Balance: {account1.balance}\")\n",
        "print(f\"Account Type:\", account1.account_type)\n",
        "print(\"=====================================\")\n",
        "account2 = BankAccount(\"Frodo\", \"Business\")\n",
        "print(f\"User Name: {account2.user_name}\")\n",
        "print(f\"Balance: {account2.balance}\")\n",
        "print(f\"Account Type: {account2.account_type}\")\n",
        "print(\"=====================================\")\n",
        "print(account1.balance)"
      ],
      "metadata": {
        "colab": {
          "base_uri": "https://localhost:8080/"
        },
        "id": "D7sJsupC7OG4",
        "outputId": "0db5face-7985-4f2e-ab5b-3e193d8a31e9"
      },
      "execution_count": null,
      "outputs": [
        {
          "output_type": "stream",
          "name": "stdout",
          "text": [
            "=====================================\n",
            "User Name: Bilbo\n",
            "Balance: 15.75\n",
            "Account Type: Savings\n",
            "=====================================\n",
            "User Name: Frodo\n",
            "Balance: 0\n",
            "Account Type: Business\n",
            "=====================================\n",
            "15.75\n"
          ]
        }
      ]
    },
    {
      "cell_type": "code",
      "source": [
        "#task 2\n",
        "class MangoTree:\n",
        "    def __init__(self,v,height=1,n=0):\n",
        "        self.variety=v\n",
        "        self.height=height\n",
        "        self.number_of_mangoes=n\n",
        "\n",
        "#DRIVER CODE STARTS\n",
        "mangoTree1= MangoTree(\"Gopalbhog\")\n",
        "# Display the details of the mango tree\n",
        "print(\"=====================================\")\n",
        "print(\"Mango Tree Details:\")\n",
        "print(f\"Variety: {mangoTree1.variety}\")\n",
        "print(f\"Height: {mangoTree1.height} meter(s)\")\n",
        "print(f\"Number of mangoes on the tree: {mangoTree1.number_of_mangoes}\")\n",
        "print(\"=====================================\")\n",
        "\n",
        "mangoTree2= MangoTree(\"Amrapali\")\n",
        "# Display the details of the mango tree\n",
        "print(\"Mango Tree Details:\")\n",
        "print(f\"Variety: {mangoTree2.variety}\")\n",
        "print(f\"Height: {mangoTree2.height} meter(s)\")\n",
        "print(f\"Number of mangoes on the tree: {mangoTree2.number_of_mangoes}\")\n",
        "print(\"=====================================\")\n",
        "#DRIVER CODE ENDS\n",
        "\n",
        "\n",
        "mangoTree1.height+=(5*3)\n",
        "mangoTree1.number_of_mangoes+=((mangoTree1.height)*10)\n",
        "\n",
        "mangoTree2.height+=(5*3)\n",
        "mangoTree2.number_of_mangoes+=((mangoTree2.height)*15)\n",
        "\n",
        "#DRIVER CODE AFTER 5 YEARS STARTS//////////////////////////////////////////\n",
        "\n",
        "#Display the details of the mango tree\n",
        "print(\"Updated details after 5 years\")\n",
        "print(\"=====================================\")\n",
        "print(f\"Variety: {mangoTree1.variety}\")\n",
        "print(f\"Height: {mangoTree1.height} meter(s)\")\n",
        "print(f\"Number of mangoes on the tree: {mangoTree1.number_of_mangoes}\")\n",
        "print(\"=====================================\")\n",
        "\n",
        "# # Display the details of the mango tree\n",
        "print(f\"Variety: {mangoTree2.variety}\")\n",
        "print(f\"Height: {mangoTree2.height} meter(s)\")\n",
        "print(f\"Number of mangoes on the tree: {mangoTree2.number_of_mangoes}\")\n",
        "print(\"=====================================\")\n",
        "\n",
        "#DRIVER CODE AFTER 5 YEARS ENDS////////////////////////////////////////"
      ],
      "metadata": {
        "colab": {
          "base_uri": "https://localhost:8080/"
        },
        "id": "62mA8Bc98GHg",
        "outputId": "7eb43fb8-d016-4b24-fbe6-cad389f0bb39"
      },
      "execution_count": null,
      "outputs": [
        {
          "output_type": "stream",
          "name": "stdout",
          "text": [
            "=====================================\n",
            "Mango Tree Details:\n",
            "Variety: Gopalbhog\n",
            "Height: 1 meter(s)\n",
            "Number of mangoes on the tree: 0\n",
            "=====================================\n",
            "Mango Tree Details:\n",
            "Variety: Amrapali\n",
            "Height: 1 meter(s)\n",
            "Number of mangoes on the tree: 0\n",
            "=====================================\n",
            "Updated details after 5 years\n",
            "=====================================\n",
            "Variety: Gopalbhog\n",
            "Height: 16 meter(s)\n",
            "Number of mangoes on the tree: 160\n",
            "=====================================\n",
            "Variety: Amrapali\n",
            "Height: 16 meter(s)\n",
            "Number of mangoes on the tree: 240\n",
            "=====================================\n"
          ]
        }
      ]
    },
    {
      "cell_type": "code",
      "source": [
        "class Contacts:\n",
        "    def __init__(self,names,num,d={}):\n",
        "        self.name=names\n",
        "        self.numbers=num\n",
        "        self.contactDict=d\n",
        "        if len(self.name)==len(self.numbers):\n",
        "            for i in range(len(self.name)):\n",
        "                self.contactDict[self.name[i]]= self.numbers[i]\n",
        "            print('Contacts saved successfully.')\n",
        "        else:\n",
        "            print('Contacts cannot be saved. Length Mismatch!')\n",
        "\n",
        "\n",
        "#DRIVER CODE STARTS////////////////////////////////////////\n",
        "names = [\"Emergency\", \"Father\", \"Bestie\"]\n",
        "numbers = [\"999\", \"01xx23\", \"01xx87\", \"01xx65\", \"01xx43\"]\n",
        "\n",
        "m1 = Contacts(names, numbers)\n",
        "print(\"Saved Contacts:\", m1.contactDict)\n",
        "print(\"---------------------------------------------\")\n",
        "print('reference of m1 :',m1)\n",
        "\n",
        "names.append(\"Mother\")\n",
        "numbers.pop()\n",
        "\n",
        "m2 = Contacts(names, numbers)\n",
        "print(\"Saved Contacts:\", m2.contactDict)\n",
        "print(\"---------------------------------------------\")\n",
        "#DRIVER CODE ENDS//////////////////////////////////////////\n",
        "\n",
        "\n",
        "#taskoption\n",
        "m1 = Contacts(names, numbers)\n",
        "print('Changed:',m1)"
      ],
      "metadata": {
        "colab": {
          "base_uri": "https://localhost:8080/"
        },
        "id": "x6pqN9ii8EzQ",
        "outputId": "129eaae5-4b4b-46fd-b38e-fc3a6eb37de5"
      },
      "execution_count": null,
      "outputs": [
        {
          "output_type": "stream",
          "name": "stdout",
          "text": [
            "Contacts cannot be saved. Length Mismatch!\n",
            "Saved Contacts: {}\n",
            "---------------------------------------------\n",
            "reference of m1 : <__main__.Contacts object at 0x7b00ecbf42b0>\n",
            "Contacts saved successfully.\n",
            "Saved Contacts: {'Emergency': '999', 'Father': '01xx23', 'Bestie': '01xx87', 'Mother': '01xx65'}\n",
            "---------------------------------------------\n",
            "Contacts saved successfully.\n",
            "reference of m1 changed: <__main__.Contacts object at 0x7b00ecbf6d10>\n"
          ]
        }
      ]
    },
    {
      "cell_type": "code",
      "source": [
        "#task 4\n",
        "class Student:\n",
        "    def __init__(self,name,cg,course):\n",
        "        self.name=name\n",
        "        self.cgpa=cg\n",
        "        self.courses_taken=course\n",
        "        self.student_status=''\n",
        "        self.advising_status=''\n",
        "        if self.cgpa>3.00:\n",
        "            self.student_status+='Regular'\n",
        "            self.advising_status+='Approved'\n",
        "            print('All the best, Clark, for the upcoming semester.')\n",
        "        elif 2.00<self.cgpa<3.00:\n",
        "            self.advising_status+='Denied'\n",
        "            self.courses_taken=0\n",
        "            print('Hello Diana, You are a regular student and have to take between 3 to 5 courses.')\n",
        "        elif 1.60<self.cgpa<2.00:\n",
        "            self.student_status+='Probation'\n",
        "            self.advising_status+='Approved'\n",
        "            print('Study hard this time, Barry.')\n",
        "        elif self.cgpa<1.60:\n",
        "            self.advising_status+='Denied'\n",
        "            self.courses_taken=0\n",
        "            print('Sorry, Bruce, you are on probation and cannot take more than 2 courses.')\n",
        "\n",
        "\n",
        "#DRIVER CODE STARTS////////////////////////////////////////\n",
        "s1 = Student(\"Clark\", 3.45, 4)\n",
        "print(f\"Name: {s1.name}\\nCGPA: {s1.cgpa}\\nCourses Taken: {s1.courses_taken}\")\n",
        "print(f\"Student Status: {s1.student_status}\\nAdvising Status: {s1.advising_status}\")\n",
        "print(\"--------------------------------------------------------------------------------\")\n",
        "s2 = Student(\"Barry\", 1.93, 2)\n",
        "print(f\"Name: {s2.name}\")\n",
        "print(f\"Student Status: {s2.student_status}\\nAdvising Status: {s2.advising_status}\")\n",
        "print(\"--------------------------------------------------------------------------------\")\n",
        "s3 = Student(\"Diana\", 2.91, 2)\n",
        "print(f\"Advising Status: {s3.advising_status}\\nCourses Taken: {s3.courses_taken}\")\n",
        "print(\"--------------------------------------------------------------------------------\")\n",
        "s4 = Student(\"Bruce\", 1.52, 5)\n",
        "print(f\"Advising Status: {s4.advising_status}\\nCourses Taken: {s4.courses_taken}\")\n",
        "#DRIVER CODE ENDS//////////////////////////////////////////"
      ],
      "metadata": {
        "colab": {
          "base_uri": "https://localhost:8080/"
        },
        "id": "NzdUgLWM8Etf",
        "outputId": "777242a4-6a34-4f26-a2c1-25b4897b8394"
      },
      "execution_count": null,
      "outputs": [
        {
          "output_type": "stream",
          "name": "stdout",
          "text": [
            "All the best, Clark, for the upcoming semester.\n",
            "Name: Clark\n",
            "CGPA: 3.45\n",
            "Courses Taken: 4\n",
            "Student Status: Regular\n",
            "Advising Status: Approved\n",
            "--------------------------------------------------------------------------------\n",
            "Study hard this time, Barry.\n",
            "Name: Barry\n",
            "Student Status: Probation\n",
            "Advising Status: Approved\n",
            "--------------------------------------------------------------------------------\n",
            "Hello Diana, You are a regular student and have to take between 3 to 5 courses.\n",
            "Advising Status: Denied\n",
            "Courses Taken: 0\n",
            "--------------------------------------------------------------------------------\n",
            "Sorry, Bruce, you are on probation and cannot take more than 2 courses.\n",
            "Advising Status: Denied\n",
            "Courses Taken: 0\n"
          ]
        }
      ]
    }
  ]
}