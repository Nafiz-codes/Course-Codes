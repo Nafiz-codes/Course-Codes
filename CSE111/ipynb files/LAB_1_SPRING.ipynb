{
  "nbformat": 4,
  "nbformat_minor": 0,
  "metadata": {
    "colab": {
      "provenance": []
    },
    "kernelspec": {
      "name": "python3",
      "display_name": "Python 3"
    },
    "language_info": {
      "name": "python"
    }
  },
  "cells": [
    {
      "cell_type": "code",
      "execution_count": null,
      "metadata": {
        "id": "B86IQ0uyzJ63"
      },
      "outputs": [],
      "source": [
        "#1\n",
        "user = input()\n",
        "lst1 = []\n",
        "lst2 = []\n",
        "lst3 = []\n",
        "c = 0\n",
        "while user != \"STOP\":\n",
        "  lst1.append(user)\n",
        "  user = input()\n",
        "for i in lst1:\n",
        "  if i not in lst2:\n",
        "    lst2.append(i)\n",
        "for i in lst2:\n",
        "  for j in lst1:\n",
        "    if i == j:\n",
        "        c+=1\n",
        "  lst3.append(c)\n",
        "  c = 0\n",
        "for i in lst3:\n",
        "  print(lst2[c],\"-\",i,\"times\")\n",
        "  c+=1"
      ]
    },
    {
      "cell_type": "code",
      "source": [
        "#2\n",
        "c = int(input(\"Enter the number of lists:\"))\n",
        "sum = 0\n",
        "max = 0\n",
        "lst = []\n",
        "for i in range(c):\n",
        "  user = input(\"Enter a string of number separated by a space:\")\n",
        "  lst1 = user.split()\n",
        "  for i in range(len(lst1)):\n",
        "    lst1[i] = int(lst1[i])\n",
        "  for i in lst1:\n",
        "    sum += i\n",
        "  if sum>=max:\n",
        "    max = sum\n",
        "    lst = lst1\n",
        "  sum = 0\n",
        "print(max)\n",
        "print(lst)\n",
        "\n",
        "\n",
        "\n",
        "\n"
      ],
      "metadata": {
        "id": "O0Uzm_yJ5NJ1"
      },
      "execution_count": null,
      "outputs": []
    },
    {
      "cell_type": "code",
      "source": [
        "#Different 2\n",
        "sum_list = []\n",
        "num_list = []\n",
        "num = int(input(\"Enter the number of lists:\"))\n",
        "for i in range(num):\n",
        "  inp = input(\"Enter a string of number separated by a space:\")\n",
        "  lst1 = inp.split()\n",
        "  for i in range(len(lst1)):\n",
        "    lst1[i] = int(lst1[i])\n",
        "  num_list.append(lst1)\n",
        "  sum1 = 0\n",
        "  for i in range(len(lst1)):\n",
        "    sum1+=lst1[i]\n",
        "  sum_list.append(sum1)\n",
        "max1 = 0\n",
        "index1 = 0\n",
        "for i in range(len(sum_list)):\n",
        "  if sum_list[i]>= max1:\n",
        "    max1 = sum_list[i]\n",
        "    index1 = i\n",
        "print(sum_list[index1])\n",
        "print(num_list[index1])"
      ],
      "metadata": {
        "colab": {
          "base_uri": "https://localhost:8080/"
        },
        "id": "a-cvpgrxBxPv",
        "outputId": "1816f660-3a0a-48f6-f034-7691ed659b7f"
      },
      "execution_count": null,
      "outputs": [
        {
          "output_type": "stream",
          "name": "stdout",
          "text": [
            "Enter the number of lists:4\n",
            "Enter a string of number separated by a space:1 2 3\n",
            "Enter a string of number separated by a space:4 5 6\n",
            "Enter a string of number separated by a space:10 11 12\n",
            "Enter a string of number separated by a space:7 8 9\n",
            "33\n",
            "[10, 11, 12]\n"
          ]
        }
      ]
    },
    {
      "cell_type": "code",
      "source": [
        "#3\n",
        "inp1 = input(\"Enter a string of number separated by a space:\")\n",
        "lst1 = inp1.split()\n",
        "inp2 = input(\"Enter a string of number separated by a space:\")\n",
        "lst2 = inp2.split()\n",
        "lst3 = []\n",
        "for i in range(len(lst1)):\n",
        "    lst1[i] = int(lst1[i])\n",
        "for i in range(len(lst2)):\n",
        "    lst2[i] = int(lst2[i])\n",
        "for i in lst1:\n",
        "  for j in lst2:\n",
        "    lst3.append(i*j)\n",
        "print(lst3)\n"
      ],
      "metadata": {
        "colab": {
          "base_uri": "https://localhost:8080/"
        },
        "id": "8uyvoZAcFmOf",
        "outputId": "87448449-f73b-42e0-99a8-b3d95b49bd30"
      },
      "execution_count": null,
      "outputs": [
        {
          "output_type": "stream",
          "name": "stdout",
          "text": [
            "Enter a string of number separated by a space:2 3 6\n",
            "Enter a string of number separated by a space:3 4 5\n",
            "[6, 8, 10, 9, 12, 15, 18, 24, 30]\n"
          ]
        }
      ]
    },
    {
      "cell_type": "code",
      "source": [
        "#4\n",
        "inp1 = input(\"Enter a string of number separated by a space: \")\n",
        "while inp1 != \"STOP\":\n",
        "  lst1 = inp1.split()\n",
        "  lst2 = []\n",
        "  for i in range(len(lst1)):\n",
        "    lst1[i] = int(lst1[i])\n",
        "  for i in range(len(lst1)-1):\n",
        "    sum = lst1[i]-(lst1[i+1])\n",
        "    if sum < 0:\n",
        "      sum = sum-sum-sum\n",
        "    lst2.append(sum)\n",
        "  for i in range(len(lst2)):\n",
        "    lst2[i] = int(lst2[i])\n",
        "  for i in range(len(lst2)-1):\n",
        "    for j in range(len(lst2)-1):\n",
        "      if lst2[j] > lst2[j+1]:\n",
        "        lst2[j],lst2[j+1] = lst2[j+1],lst2[j]\n",
        "  c = 1\n",
        "  for i in range(len(lst2)):\n",
        "    if lst2[i] == c:\n",
        "      c+=1\n",
        "      ans = \"UB Jumper\"\n",
        "    else:\n",
        "      flag = False\n",
        "      ans = \"Not UB Jumper\"\n",
        "      break\n",
        "  print(ans)\n",
        "  inp1 = input(\"Enter a string of number separated by a space: \")"
      ],
      "metadata": {
        "id": "7mTwNcY3IAHJ",
        "colab": {
          "base_uri": "https://localhost:8080/"
        },
        "outputId": "af9dda9c-ad32-492f-e522-b99841b56baa"
      },
      "execution_count": null,
      "outputs": [
        {
          "name": "stdout",
          "output_type": "stream",
          "text": [
            "Enter a string of number separated by a space: 2 1 4 6 10\n",
            "UB Jumper\n",
            "Enter a string of number separated by a space: 1 4 2 3\n",
            "UB Jumper\n",
            "Enter a string of number separated by a space: 1 4 2 -1 6\n",
            "Not UB Jumper\n",
            "Enter a string of number separated by a space: STOP\n"
          ]
        }
      ]
    },
    {
      "cell_type": "code",
      "source": [
        "#5\n",
        "inp = input()\n",
        "low = []\n",
        "upp = []\n",
        "even = []\n",
        "odd = []\n",
        "ans = []\n",
        "for i in inp:\n",
        "  if ord(\"a\")<=ord(i)<=ord(\"z\"):\n",
        "    low.append(i)\n",
        "  elif ord(\"A\")<=ord(i)<=ord(\"Z\"):\n",
        "    upp.append(i)\n",
        "  elif int(i) % 2 != 0:\n",
        "    odd.append(i)\n",
        "  else:\n",
        "    even.append(i)\n",
        "for i in range(len(low)-1):\n",
        "    for j in range(len(low)-1):\n",
        "      if low[j] > low[j+1]:\n",
        "        low[j],low[j+1] = low[j+1],low[j]\n",
        "for i in range(len(upp)-1):\n",
        "    for j in range(len(upp)-1):\n",
        "      if upp[j] > upp[j+1]:\n",
        "        upp[j],upp[j+1] = upp[j+1],upp[j]\n",
        "for i in range(len(even)-1):\n",
        "    for j in range(len(even)-1):\n",
        "      if even[j] > even[j+1]:\n",
        "        even[j],even[j+1] = even[j+1],low[j]\n",
        "for i in range(len(odd)-1):\n",
        "    for j in range(len(odd)-1):\n",
        "      if odd[j] > odd[j+1]:\n",
        "        odd[j],odd[j+1] = odd[j+1],odd[j]\n",
        "for i in low:\n",
        "  ans.append(i)\n",
        "for i in upp:\n",
        "  ans.append(i)\n",
        "for i in odd:\n",
        "  ans.append(i)\n",
        "for i in even:\n",
        "  ans.append(i)\n",
        "for i in ans:\n",
        "  print(i,end=\"\")"
      ],
      "metadata": {
        "colab": {
          "base_uri": "https://localhost:8080/"
        },
        "id": "zzNEr1sjo92A",
        "outputId": "083535f0-014c-4989-e124-1ab827f27c02"
      },
      "execution_count": null,
      "outputs": [
        {
          "output_type": "stream",
          "name": "stdout",
          "text": [
            "Bracu1234\n",
            "acruB1324"
          ]
        }
      ]
    },
    {
      "cell_type": "code",
      "source": [
        "#6\n",
        "c = 0\n",
        "inp = input()\n",
        "lst = inp.split()\n",
        "lst1 = []\n",
        "for i in range(int(lst[0])):\n",
        "  inp1 = int(input(\"Enter the number of times student have competed:\"))\n",
        "  lst1.append(inp1)\n",
        "for i in lst1:\n",
        "  if 5-int(i) >= int(lst[1]):\n",
        "    c+=1\n",
        "print(c//3)"
      ],
      "metadata": {
        "colab": {
          "base_uri": "https://localhost:8080/"
        },
        "id": "CSLQeES-Ibo5",
        "outputId": "76ec595e-7b9b-426b-ab9f-2bb788322ea8"
      },
      "execution_count": null,
      "outputs": [
        {
          "output_type": "stream",
          "name": "stdout",
          "text": [
            "5 2\n",
            "Enter the number of times student have competed:0 \n",
            "Enter the number of times student have competed:4\n",
            "Enter the number of times student have competed:5\n",
            "Enter the number of times student have competed:1\n",
            "Enter the number of times student have competed:0\n",
            "1\n"
          ]
        }
      ]
    },
    {
      "cell_type": "markdown",
      "source": [
        "Dictionary and Tuple"
      ],
      "metadata": {
        "id": "xLZg1yKCgqwl"
      }
    },
    {
      "cell_type": "code",
      "source": [
        "#1\n",
        "d1 = {\"a\": 100, \"b\": 100, \"c\": 200, \"d\": 300}\n",
        "d2 = {\"a\": 300, \"b\": 200, \"d\": 400, \"e\": 200}\n",
        "lst = []\n",
        "for k in d2.keys():\n",
        "  if k in d1:\n",
        "    d1[k] = d1[k] + d2[k]\n",
        "  else:\n",
        "    d1[k] = d2[k]\n",
        "for v in d1.values():\n",
        "  lst.append(v)\n",
        "for i in lst:\n",
        "  for j in range(len(lst)-1):\n",
        "    if lst[j] > lst[j+1]:\n",
        "      lst[j],lst[j+1] = lst[j+1],lst[j]\n",
        "unique_dict = {}\n",
        "for v in lst:\n",
        "  unique_dict[v] = None\n",
        "unique_dict = tuple(unique_dict.keys())\n",
        "print(d1)\n",
        "print(\"Values:\",unique_dict)"
      ],
      "metadata": {
        "id": "GQXCALUoJCQz",
        "colab": {
          "base_uri": "https://localhost:8080/"
        },
        "outputId": "0196b284-2e69-41ae-b53b-0fa012991a7e"
      },
      "execution_count": null,
      "outputs": [
        {
          "output_type": "stream",
          "name": "stdout",
          "text": [
            "{'a': 400, 'b': 300, 'c': 200, 'd': 700, 'e': 200}\n",
            "Values: (200, 300, 400, 700)\n"
          ]
        }
      ]
    },
    {
      "cell_type": "code",
      "source": [
        "#2\n",
        "d1 = {\"a\":10,\"b\": 20,\"c\": 20,\"d\": 30,\"e\": 10,\"f\": 50,\"g\": 90}\n",
        "lst = []\n",
        "for v in d1.values():\n",
        "  lst.append(v)\n",
        "d1 = {}\n",
        "for i in lst:\n",
        "  if i in d1:\n",
        "    d1[i] += 1\n",
        "  else:\n",
        "    d1[i] = 1\n",
        "for num, freq in d1.items():\n",
        "  print(num,\"-\", freq, \"times\")"
      ],
      "metadata": {
        "id": "WQVaUcBPJEJi",
        "colab": {
          "base_uri": "https://localhost:8080/"
        },
        "outputId": "eb7995d1-94d2-40a1-92cb-9e1e91be8fb1"
      },
      "execution_count": null,
      "outputs": [
        {
          "output_type": "stream",
          "name": "stdout",
          "text": [
            "10 - 2 times\n",
            "20 - 2 times\n",
            "30 - 1 times\n",
            "50 - 1 times\n",
            "90 - 1 times\n"
          ]
        }
      ]
    },
    {
      "cell_type": "code",
      "source": [
        "#3\n",
        "d = {\"key1\" : \"value1\", \"key2\" : \"value2\", \"key3\" : \"value1\"}\n",
        "new_d = {}\n",
        "for k,v in d.items():\n",
        "  if v not in new_d:\n",
        "    new_d[v] = [k]\n",
        "  else:\n",
        "    new_d[v].append(k)\n",
        "print(new_d)"
      ],
      "metadata": {
        "colab": {
          "base_uri": "https://localhost:8080/"
        },
        "id": "fNas2xVEJF2q",
        "outputId": "a6b1598a-8a8c-44dc-f04c-7bf2724b18bc"
      },
      "execution_count": null,
      "outputs": [
        {
          "output_type": "stream",
          "name": "stdout",
          "text": [
            "{'value1': ['key1', 'key3'], 'value2': ['key2']}\n"
          ]
        }
      ]
    },
    {
      "cell_type": "code",
      "source": [
        "#4\n",
        "d = {}\n",
        "inp = input()\n",
        "inp = inp.lower()\n",
        "for i in inp:\n",
        "  c = 1\n",
        "  if i == \" \":\n",
        "    continue\n",
        "  elif i not in d.keys():\n",
        "    d[i] = c\n",
        "  else:\n",
        "    c = d[i]+1\n",
        "    d[i] = c\n",
        "print(d)"
      ],
      "metadata": {
        "id": "1L7yOlRJJGeR",
        "colab": {
          "base_uri": "https://localhost:8080/"
        },
        "outputId": "2f2801f7-d5df-44cb-fb4c-b0ed992be038"
      },
      "execution_count": null,
      "outputs": [
        {
          "output_type": "stream",
          "name": "stdout",
          "text": [
            "Python programming is fun\n",
            "{'p': 2, 'y': 1, 't': 1, 'h': 1, 'o': 2, 'n': 3, 'r': 2, 'g': 2, 'a': 1, 'm': 2, 'i': 2, 's': 1, 'f': 1, 'u': 1}\n"
          ]
        }
      ]
    },
    {
      "cell_type": "code",
      "source": [
        "#5\n",
        "inp = input()\n",
        "inp1 = input()\n",
        "d1 = {}\n",
        "d2 = {}\n",
        "lst = []\n",
        "lst1 = []\n",
        "for i in inp:\n",
        "  lst.append(i)\n",
        "for k in lst:\n",
        "  d1[k] = None\n",
        "for i in inp1:\n",
        "  lst1.append(i)\n",
        "for k in lst1:\n",
        "  d2[k] = None\n",
        "if d1 == d2:\n",
        "  print(\"They are anagrams\")\n",
        "else:\n",
        "  print(\"They are not anagrams\")"
      ],
      "metadata": {
        "id": "jhTyc7akJHzC",
        "colab": {
          "base_uri": "https://localhost:8080/"
        },
        "outputId": "31283ba5-894f-46d9-bc18-27724da352c5"
      },
      "execution_count": null,
      "outputs": [
        {
          "output_type": "stream",
          "name": "stdout",
          "text": [
            "im a dot in place\n",
            "a decimal point\n",
            "They are anagrams\n"
          ]
        }
      ]
    },
    {
      "cell_type": "code",
      "source": [
        "#6\n",
        "d = {\"1\":[\".\",\",\",\"?\",\"!\",\":\"],\"2\":[\"A\",\"B\",\"C\"],\"3\":[\"D\",\"E\",\"F\"],\"4\":[\"G\",\"H\",\"I\"],\"5\":[\"J\",\"K\",\"L\"],\"6\":[\"M\",\"N\",\"O\"],\"7\":[\"P\",\"Q\",\"R\",\"S\"],\"8\":[\"T\",\"U\",\"V\"],\"9\":[\"W\",\"X\",\"Y\",\"Z\"],\"0\":[\" \"]}\n",
        "inp = input()\n",
        "inp = inp.upper()\n",
        "for i in inp:\n",
        "    for k,v in d.items():\n",
        "      if i in v:\n",
        "        for j in range(len(v)):\n",
        "          if v[j] == i:\n",
        "            for i in range(j+1):\n",
        "              print(k,end=\"\")"
      ],
      "metadata": {
        "id": "2vjS87AMJIpZ",
        "colab": {
          "base_uri": "https://localhost:8080/"
        },
        "outputId": "5c029b43-0c64-4c20-d828-74fcd32f86a2"
      },
      "execution_count": null,
      "outputs": [
        {
          "output_type": "stream",
          "name": "stdout",
          "text": [
            "Hello, World!\n",
            "4433555555666110966677755531111"
          ]
        }
      ]
    }
  ]
}