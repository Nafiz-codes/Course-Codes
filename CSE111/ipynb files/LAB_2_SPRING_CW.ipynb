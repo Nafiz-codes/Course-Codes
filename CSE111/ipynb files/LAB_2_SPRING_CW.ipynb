{
  "nbformat": 4,
  "nbformat_minor": 0,
  "metadata": {
    "colab": {
      "provenance": []
    },
    "kernelspec": {
      "name": "python3",
      "display_name": "Python 3"
    },
    "language_info": {
      "name": "python"
    }
  },
  "cells": [
    {
      "cell_type": "code",
      "execution_count": null,
      "metadata": {
        "colab": {
          "base_uri": "https://localhost:8080/"
        },
        "id": "9rBO8oNt3Oww",
        "outputId": "f01f6c0f-dc7b-464a-c559-594d194fd1f1"
      },
      "outputs": [
        {
          "output_type": "stream",
          "name": "stdout",
          "text": [
            "score is 31.3.You are OBESE\n"
          ]
        }
      ],
      "source": [
        "#1\n",
        "def bmi(hcm,weight):\n",
        "  heightm=hcm/100\n",
        "  BMI=weight/(heightm**2)\n",
        "  if BMI<18.5:\n",
        "    what=\"underweight\"\n",
        "  elif 18.5<=BMI<=24.9:\n",
        "    what=\"Normal\"\n",
        "  elif 25<=BMI<=30:\n",
        "    what=\"overweight\"\n",
        "  elif 30<=BMI:\n",
        "    what=\"OBESE\"\n",
        "  return (f\"score is {BMI:.1f}.You are {what}\")\n",
        "a=bmi(175,96)\n",
        "print(a)"
      ]
    },
    {
      "cell_type": "code",
      "source": [
        "#2\n",
        "def order(name,place=\"Mohakhali\"):\n",
        "  # name=input()\n",
        "  # place=input()\n",
        "\n",
        "  if name==\"BBQ Chicken Cheese Burger\":\n",
        "    meal_cost=250\n",
        "  elif name==\"Beef Burger\":\n",
        "    meal_cost=170\n",
        "\n",
        "\n",
        "  elif name==\"Naga Drums\":\n",
        "    meal_cost=200\n",
        "\n",
        "\n",
        "  if place==\"Mohakhali\":\n",
        "    delivery_charge=40\n",
        "\n",
        "  else:\n",
        "    delivery_charge=60\n",
        "\n",
        "  total=meal_cost + delivery_charge +(meal_cost*8/100)\n",
        "  return total\n",
        "a=order(\"Beef Burger\",\"Dhanmondi\")\n",
        "print(a)"
      ],
      "metadata": {
        "colab": {
          "base_uri": "https://localhost:8080/"
        },
        "id": "egxlsvq47fr6",
        "outputId": "40aabaaa-49b8-461b-8d29-45838c028d2f"
      },
      "execution_count": null,
      "outputs": [
        {
          "output_type": "stream",
          "name": "stdout",
          "text": [
            "243.6\n"
          ]
        }
      ]
    },
    {
      "cell_type": "code",
      "source": [
        "#3\n",
        "def replace_domain(email,newDomain, fixed=\"kaaj.com\"):\n",
        "  rep=email.split(\"@\")\n",
        "  temp=''\n",
        "  if rep[1]==fixed:\n",
        "    temp=rep[0]+\"@\"+newDomain\n",
        "    return (f\"Changed: {temp}\")\n",
        "  else:\n",
        "    return (f\"Unchanged: {email}\")\n",
        "a=replace_domain(\"alice@kaaj.com\",\"sheba.xyz\")\n",
        "b=replace_domain(\"bob@sheba.xyz\",\"sheba.xyz\")\n",
        "print(a)\n",
        "print(b)\n"
      ],
      "metadata": {
        "colab": {
          "base_uri": "https://localhost:8080/"
        },
        "id": "nKb0Y4oxCJG-",
        "outputId": "ad6862b1-3be6-4c9a-dbff-3f800cf41c33"
      },
      "execution_count": null,
      "outputs": [
        {
          "output_type": "stream",
          "name": "stdout",
          "text": [
            "Changed: alice@sheba.xyz\n",
            "Unchanged: bob@sheba.xyz\n"
          ]
        }
      ]
    },
    {
      "cell_type": "code",
      "source": [
        "#4\n",
        "def show_palindrome(n):\n",
        "  for i in range(1,len(n)+1,1):\n",
        "    print(i,end=\"\")\n",
        "  for i in range(len(n)-1,0,-1):\n",
        "    print(i,end=\"\")\n",
        "n=input()\n",
        "show_palindrome(n)"
      ],
      "metadata": {
        "colab": {
          "base_uri": "https://localhost:8080/"
        },
        "id": "eNyKSN5YFFPV",
        "outputId": "8e31babb-cb08-479b-8e7d-7039c98c4499"
      },
      "execution_count": null,
      "outputs": [
        {
          "output_type": "stream",
          "name": "stdout",
          "text": [
            "madam\n",
            "123454321"
          ]
        }
      ]
    },
    {
      "cell_type": "code",
      "source": [
        "#4\n",
        "def show_palindrome(n):\n",
        "  temp=''\n",
        "  for i in n:\n",
        "    if n!=' ':\n",
        "      temp+=i\n",
        "  for i in range(0,len(temp)):\n",
        "    if temp[i]==temp[i-1]:\n",
        "      p=True\n",
        "    else:\n",
        "      break\n",
        "  if True:\n",
        "    return(\"Palindrome\")\n",
        "\n",
        "\n",
        "\n",
        "n= show_palindrome('madam')\n",
        "print(n)"
      ],
      "metadata": {
        "colab": {
          "base_uri": "https://localhost:8080/"
        },
        "id": "v0ZMHwthGJjW",
        "outputId": "78ab2040-645f-4c9b-99a3-f2a3a332d4c9"
      },
      "execution_count": 1,
      "outputs": [
        {
          "output_type": "stream",
          "name": "stdout",
          "text": [
            "Palindrome\n"
          ]
        }
      ]
    },
    {
      "cell_type": "code",
      "source": [
        "#5\n",
        "def days(n):\n",
        "  year=n//365\n",
        "  remaining=n%365\n",
        "  months=remaining//30\n",
        "  days=remaining%30\n",
        "  return (f\"{year} years, {months} months and {days} days\")\n",
        "print(days(4320))\n"
      ],
      "metadata": {
        "colab": {
          "base_uri": "https://localhost:8080/"
        },
        "id": "xjZmflWUHO01",
        "outputId": "24d2aec9-47a1-44ca-b596-3e8ce50e7d29"
      },
      "execution_count": null,
      "outputs": [
        {
          "output_type": "stream",
          "name": "stdout",
          "text": [
            "11 years, 10 months and 5 days\n"
          ]
        }
      ]
    },
    {
      "cell_type": "code",
      "source": [
        "#6 MAYBE CHECK IT]]]]]\n",
        "def correct_capitalization(sentence):\n",
        "    corrected_sentence = ''\n",
        "    capitalize_next = True\n",
        "\n",
        "    for char in sentence:\n",
        "        if capitalize_next:\n",
        "            corrected_sentence += char.upper()\n",
        "            capitalize_next = False\n",
        "        else:\n",
        "            corrected_sentence += char.lower()\n",
        "\n",
        "        if char in ['.', '!', '?']:\n",
        "            capitalize_next = True\n",
        "        elif char == 'i' and (corrected_sentence[-2] in [' ', '.', '!', '?']):\n",
        "            corrected_sentence = corrected_sentence[:-1] + 'I'\n",
        "\n",
        "    return corrected_sentence\n",
        "\n",
        "user_input = input(\"Enter a sentence: \")\n",
        "corrected_sentence = correct_capitalization(user_input)\n",
        "print(\"Corrected sentence:\", corrected_sentence)"
      ],
      "metadata": {
        "id": "8Qpawy1TvL7W",
        "colab": {
          "base_uri": "https://localhost:8080/",
          "height": 391
        },
        "outputId": "fdd62c5e-3486-4372-a9e4-3f4c2963a9f0"
      },
      "execution_count": 2,
      "outputs": [
        {
          "output_type": "error",
          "ename": "KeyboardInterrupt",
          "evalue": "Interrupted by user",
          "traceback": [
            "\u001b[0;31m---------------------------------------------------------------------------\u001b[0m",
            "\u001b[0;31mKeyboardInterrupt\u001b[0m                         Traceback (most recent call last)",
            "\u001b[0;32m/tmp/ipython-input-996129065.py\u001b[0m in \u001b[0;36m<cell line: 0>\u001b[0;34m()\u001b[0m\n\u001b[1;32m     18\u001b[0m     \u001b[0;32mreturn\u001b[0m \u001b[0mcorrected_sentence\u001b[0m\u001b[0;34m\u001b[0m\u001b[0;34m\u001b[0m\u001b[0m\n\u001b[1;32m     19\u001b[0m \u001b[0;34m\u001b[0m\u001b[0m\n\u001b[0;32m---> 20\u001b[0;31m \u001b[0muser_input\u001b[0m \u001b[0;34m=\u001b[0m \u001b[0minput\u001b[0m\u001b[0;34m(\u001b[0m\u001b[0;34m\"Enter a sentence: \"\u001b[0m\u001b[0;34m)\u001b[0m\u001b[0;34m\u001b[0m\u001b[0;34m\u001b[0m\u001b[0m\n\u001b[0m\u001b[1;32m     21\u001b[0m \u001b[0mcorrected_sentence\u001b[0m \u001b[0;34m=\u001b[0m \u001b[0mcorrect_capitalization\u001b[0m\u001b[0;34m(\u001b[0m\u001b[0muser_input\u001b[0m\u001b[0;34m)\u001b[0m\u001b[0;34m\u001b[0m\u001b[0;34m\u001b[0m\u001b[0m\n\u001b[1;32m     22\u001b[0m \u001b[0mprint\u001b[0m\u001b[0;34m(\u001b[0m\u001b[0;34m\"Corrected sentence:\"\u001b[0m\u001b[0;34m,\u001b[0m \u001b[0mcorrected_sentence\u001b[0m\u001b[0;34m)\u001b[0m\u001b[0;34m\u001b[0m\u001b[0;34m\u001b[0m\u001b[0m\n",
            "\u001b[0;32m/usr/local/lib/python3.12/dist-packages/ipykernel/kernelbase.py\u001b[0m in \u001b[0;36mraw_input\u001b[0;34m(self, prompt)\u001b[0m\n\u001b[1;32m   1175\u001b[0m                 \u001b[0;34m\"raw_input was called, but this frontend does not support input requests.\"\u001b[0m\u001b[0;34m\u001b[0m\u001b[0;34m\u001b[0m\u001b[0m\n\u001b[1;32m   1176\u001b[0m             )\n\u001b[0;32m-> 1177\u001b[0;31m         return self._input_request(\n\u001b[0m\u001b[1;32m   1178\u001b[0m             \u001b[0mstr\u001b[0m\u001b[0;34m(\u001b[0m\u001b[0mprompt\u001b[0m\u001b[0;34m)\u001b[0m\u001b[0;34m,\u001b[0m\u001b[0;34m\u001b[0m\u001b[0;34m\u001b[0m\u001b[0m\n\u001b[1;32m   1179\u001b[0m             \u001b[0mself\u001b[0m\u001b[0;34m.\u001b[0m\u001b[0m_parent_ident\u001b[0m\u001b[0;34m[\u001b[0m\u001b[0;34m\"shell\"\u001b[0m\u001b[0;34m]\u001b[0m\u001b[0;34m,\u001b[0m\u001b[0;34m\u001b[0m\u001b[0;34m\u001b[0m\u001b[0m\n",
            "\u001b[0;32m/usr/local/lib/python3.12/dist-packages/ipykernel/kernelbase.py\u001b[0m in \u001b[0;36m_input_request\u001b[0;34m(self, prompt, ident, parent, password)\u001b[0m\n\u001b[1;32m   1217\u001b[0m             \u001b[0;32mexcept\u001b[0m \u001b[0mKeyboardInterrupt\u001b[0m\u001b[0;34m:\u001b[0m\u001b[0;34m\u001b[0m\u001b[0;34m\u001b[0m\u001b[0m\n\u001b[1;32m   1218\u001b[0m                 \u001b[0;31m# re-raise KeyboardInterrupt, to truncate traceback\u001b[0m\u001b[0;34m\u001b[0m\u001b[0;34m\u001b[0m\u001b[0m\n\u001b[0;32m-> 1219\u001b[0;31m                 \u001b[0;32mraise\u001b[0m \u001b[0mKeyboardInterrupt\u001b[0m\u001b[0;34m(\u001b[0m\u001b[0;34m\"Interrupted by user\"\u001b[0m\u001b[0;34m)\u001b[0m \u001b[0;32mfrom\u001b[0m \u001b[0;32mNone\u001b[0m\u001b[0;34m\u001b[0m\u001b[0;34m\u001b[0m\u001b[0m\n\u001b[0m\u001b[1;32m   1220\u001b[0m             \u001b[0;32mexcept\u001b[0m \u001b[0mException\u001b[0m\u001b[0;34m:\u001b[0m\u001b[0;34m\u001b[0m\u001b[0;34m\u001b[0m\u001b[0m\n\u001b[1;32m   1221\u001b[0m                 \u001b[0mself\u001b[0m\u001b[0;34m.\u001b[0m\u001b[0mlog\u001b[0m\u001b[0;34m.\u001b[0m\u001b[0mwarning\u001b[0m\u001b[0;34m(\u001b[0m\u001b[0;34m\"Invalid Message:\"\u001b[0m\u001b[0;34m,\u001b[0m \u001b[0mexc_info\u001b[0m\u001b[0;34m=\u001b[0m\u001b[0;32mTrue\u001b[0m\u001b[0;34m)\u001b[0m\u001b[0;34m\u001b[0m\u001b[0;34m\u001b[0m\u001b[0m\n",
            "\u001b[0;31mKeyboardInterrupt\u001b[0m: Interrupted by user"
          ]
        }
      ]
    },
    {
      "cell_type": "code",
      "source": [
        "#6\n",
        "def str1(x):\n",
        "  temp1=\"\"\n",
        "  for i in range(len(x)):\n",
        "    temp1+=chr(ord(x[i]-32))\n",
        "    if x[i]==\"i\":\n",
        "      temp1+=chr(ord(x[i]-32))\n",
        "    elif x[i]==\".\" or \"?\":\n",
        "      temp1+=chr(ord(x[i+2]-32))\n",
        "    else:\n",
        "      temp1+=i\n",
        "    return temp\n",
        "print(str(\"My fa\"))"
      ],
      "metadata": {
        "id": "RQywGndONGEB"
      },
      "execution_count": null,
      "outputs": []
    },
    {
      "cell_type": "code",
      "source": [
        "#evaluation task but in string\n",
        "\n",
        "def avm(one):\n",
        "  lis=[]\n",
        "  x=one.split(\" \")\n",
        "  total=0\n",
        "  for i in x:\n",
        "    lis.append(int(i))\n",
        "  for i in lis:\n",
        "    total+=i\n",
        "  average= round(total/len(lis),1)\n",
        "  return average\n",
        "one=input()\n",
        "print(avm(one))"
      ],
      "metadata": {
        "colab": {
          "base_uri": "https://localhost:8080/"
        },
        "id": "G_bfl1e3Ny7p",
        "outputId": "840a7c35-4963-4de2-e027-c31ce1f4660a"
      },
      "execution_count": null,
      "outputs": [
        {
          "output_type": "stream",
          "name": "stdout",
          "text": [
            "3 4 5 3\n",
            "3.8\n"
          ]
        }
      ]
    },
    {
      "cell_type": "code",
      "source": [
        "#evaluation task\n",
        "def average_mark(*args):\n",
        "  count=0\n",
        "  total=0\n",
        "  for i in args:\n",
        "    count+=1\n",
        "  for i in args:\n",
        "    total+=i\n",
        "  average= round(total/count,1)\n",
        "  return average\n",
        "a=average_mark(3,4,5,3)\n",
        "print(a)"
      ],
      "metadata": {
        "colab": {
          "base_uri": "https://localhost:8080/"
        },
        "id": "ESMQmPRoRSeI",
        "outputId": "2f6347c4-eea6-4ca2-99fb-dee899d2c6cd"
      },
      "execution_count": null,
      "outputs": [
        {
          "output_type": "stream",
          "name": "stdout",
          "text": [
            "3.8\n"
          ]
        }
      ]
    }
  ]
}