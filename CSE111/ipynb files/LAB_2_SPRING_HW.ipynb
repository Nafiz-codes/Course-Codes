{
  "nbformat": 4,
  "nbformat_minor": 0,
  "metadata": {
    "colab": {
      "provenance": []
    },
    "kernelspec": {
      "name": "python3",
      "display_name": "Python 3"
    },
    "language_info": {
      "name": "python"
    }
  },
  "cells": [
    {
      "cell_type": "code",
      "execution_count": null,
      "metadata": {
        "colab": {
          "base_uri": "https://localhost:8080/"
        },
        "id": "b_8GJIRvQzZo",
        "outputId": "075f92a6-6d87-43dc-f5a1-c69db225b00f"
      },
      "outputs": [
        {
          "output_type": "stream",
          "name": "stdout",
          "text": [
            "Highest fee was 1200tk which was paid by Steyn.\n"
          ]
        }
      ],
      "source": [
        "#1\n",
        "def hospital_fee(**kwargs):\n",
        "  highest=0\n",
        "  payer=\"\"\n",
        "  for key,value in kwargs.items():\n",
        "    if value>=highest:\n",
        "      highest=value\n",
        "  for key,value in kwargs.items():\n",
        "    if highest==value:\n",
        "      payer+=f'{key},'\n",
        "  return highest, payer[:len(payer)-1]\n",
        "\n",
        "max_amount, max_payer = hospital_fee(Mashrafe = 400, Bumrah = 900, Steyn = 1200, Cummins = 900, Wood = 400, Marsh = 700)\n",
        "print(f'Highest fee was {max_amount}tk which was paid by {max_payer}.')"
      ]
    },
    {
      "cell_type": "code",
      "source": [
        "#2\n",
        "def is_james_bond(n):\n",
        "  str1=''\n",
        "  for i in n:\n",
        "    if i==0 or 7:\n",
        "      str1+=str(i)\n",
        "    else:\n",
        "      continue\n",
        "  if str1==\"007\":\n",
        "    return True\n",
        "  else:\n",
        "    return False\n",
        "a= is_james_bond( [1, 2, 4, 0, 0, 7, 5] )\n",
        "print(a)"
      ],
      "metadata": {
        "id": "B6dp7O-6Wjok"
      },
      "execution_count": null,
      "outputs": []
    },
    {
      "cell_type": "code",
      "source": [
        "#3\n",
        "def assign_students_to_sections(sections, *students):\n",
        "    dict1 = {}\n",
        "    dict2 = {}\n",
        "\n",
        "    for i in range(len(sections)):\n",
        "        dict1[sections[i]] = i\n",
        "\n",
        "    for i in sections:\n",
        "        dict2[i] = []\n",
        "\n",
        "    for i in students:\n",
        "        sum = 0\n",
        "        for j in i:\n",
        "            sum += ord(j)\n",
        "        correction = sum % len(sections)\n",
        "        for key, value in dict1.items():\n",
        "            if value == correction:\n",
        "                dict2[key].append(i)\n",
        "\n",
        "    print(dict2)\n",
        "\n",
        "assign_students_to_sections ('ABCDE', 'Alice', 'Bob', 'Charlie', 'David', 'Eve', 'Frank', 'Grace')"
      ],
      "metadata": {
        "id": "kTkPtuuMW4f-"
      },
      "execution_count": null,
      "outputs": []
    },
    {
      "cell_type": "code",
      "source": [
        "#4 1st attempt\n",
        "def username_generator(first_name, last_name, student_id, middle_name=\"\"):\n",
        "  user_name=\"\"\n",
        "\n",
        "  for i in range(3):\n",
        "    if len(user_name)==len(first_name):\n",
        "      break\n",
        "    else:\n",
        "      if 97<=ord(first_name[i])<=122:\n",
        "        user_name+=chr(ord(first_name[i])-32)\n",
        "      else:\n",
        "        user_name+=first_name[i]\n",
        "  user_name+=middle_name\n",
        "\n",
        "  for i in range(len(last_name)-3,len(last_name)):\n",
        "    user_name+=last_name[i]\n",
        "\n",
        "  user_name+=\"_\"\n",
        "  str_student_id=str(student_id)\n",
        "\n",
        "  for i in range(len(str_student_id)-4, len(str_student_id)):\n",
        "    user_name+=str(str_student_id[i])\n",
        "\n",
        "  return user_name\n",
        "\n",
        "first_name, middle_name, last_name, student_id= input (\"First Name:\"), input (\"Middle Name:\"), input (\"Last Name:\"), int (input (\"Student ID:\"))\n",
        "print(username_generator(first_name, last_name, student_id, middle_name))"
      ],
      "metadata": {
        "colab": {
          "base_uri": "https://localhost:8080/"
        },
        "id": "uzEcWgxpan5l",
        "outputId": "47a15adc-3fb0-4de0-edf7-53b671cde539"
      },
      "execution_count": null,
      "outputs": [
        {
          "output_type": "stream",
          "name": "stdout",
          "text": [
            "First Name:Shakib\n",
            "Middle Name:Bin\n",
            "Last Name:Hasan\n",
            "Student ID:17305165\n",
            "SHABinsan_5165\n"
          ]
        }
      ]
    },
    {
      "cell_type": "code",
      "source": [
        "#4 another\n",
        "def username_generator(first, last, id, middle = \"\"):\n",
        "  username = \"\"\n",
        "  #Adding first name\n",
        "  if len(first) <= 3:\n",
        "    username += first.upper()\n",
        "  else:\n",
        "    username += first[:3].upper()\n",
        "\n",
        "  #Adding middle name\n",
        "  username += middle\n",
        "\n",
        "  #Adding last name\n",
        "  username += last[-3:].lower()\n",
        "\n",
        "  #Adding id\n",
        "  id = str(id)\n",
        "  username += \"_\" + id[-4:]\n",
        "\n",
        "  return username\n",
        "\n",
        "first_name, middle_name, last_name, student_id= input (\"First Name: \"), input(\"Middle Name: \"), input (\"Last Name: \"), int (input (\"Student ID: \"))\n",
        "\n",
        "print(username_generator(first_name, last_name, student_id, middle_name))"
      ],
      "metadata": {
        "id": "i2Y-Z91AfYlf"
      },
      "execution_count": null,
      "outputs": []
    },
    {
      "cell_type": "code",
      "source": [
        "#5 final\n",
        "def key_generator(*args):\n",
        "  keys = []\n",
        "  for i in args:\n",
        "    final = \"\"\n",
        "    final += i[0].lower()\n",
        "\n",
        "    for j in range(-2, -len(i), -1):\n",
        "      final += str(ord(i[j]))\n",
        "\n",
        "    final+=i[-1].upper()\n",
        "    keys.append(final)\n",
        "  return (f'Encrypted Keys: {keys}')\n",
        "\n",
        "key_list = key_generator (\"Alex\", \"Bob\", \"Trudy\")\n",
        "print(key_list)"
      ],
      "metadata": {
        "colab": {
          "base_uri": "https://localhost:8080/"
        },
        "id": "5V8-q_uPdJKz",
        "outputId": "191f249a-001c-42e0-fe1c-da48afb0b511"
      },
      "execution_count": null,
      "outputs": [
        {
          "output_type": "stream",
          "name": "stdout",
          "text": [
            "Encrypted Keys: ['a101108X', 'b111B', 't100117114Y']\n"
          ]
        }
      ]
    },
    {
      "cell_type": "code",
      "source": [
        "#6 FINAL\n",
        "import random\n",
        "\n",
        "def playRockPaperScissor(rounds):\n",
        "    myscore = 0\n",
        "    compscore = 0\n",
        "    a = \"rock\"\n",
        "    b = \"paper\"\n",
        "    c = \"scissor\"\n",
        "    win = \"\"\n",
        "    prep = \"\"\n",
        "    for i in range(rounds):\n",
        "        m = input(\"Enter your choice (rock/paper/scissor): \").lower()\n",
        "        x = random.choice([a, b, c])\n",
        "        print(\"Computer:\", x)\n",
        "\n",
        "        if m == a and x == b:\n",
        "            compscore += 1\n",
        "        elif m == a and x == c:\n",
        "            myscore += 1\n",
        "        elif m == b and x == c:\n",
        "            compscore += 1\n",
        "        elif m == b and x == a:\n",
        "            myscore += 1\n",
        "        elif m == c and x == b:\n",
        "            compscore += 1\n",
        "        elif m == c and x == a:\n",
        "            myscore += 1\n",
        "\n",
        "    if compscore > myscore:\n",
        "        win += \"Computer\"\n",
        "        prep += \"have\"\n",
        "    elif compscore < myscore:\n",
        "        win += \"You\"\n",
        "        prep += \"has\"\n",
        "    else:\n",
        "        return \"It's a tie!\"\n",
        "\n",
        "    return f\"Your score: {myscore}\\nComputer's score: {compscore}\\n{win} {prep} won the game!\"\n",
        "\n",
        "N = int(input(\"Number of rounds: \"))\n",
        "print(playRockPaperScissor(N))\n"
      ],
      "metadata": {
        "colab": {
          "base_uri": "https://localhost:8080/"
        },
        "id": "5ZNdecpndwSt",
        "outputId": "934dcaa5-9d4f-4e08-fa46-03a59c66fa07"
      },
      "execution_count": null,
      "outputs": [
        {
          "output_type": "stream",
          "name": "stdout",
          "text": [
            "Number of rounds: 3\n",
            "Enter your choice (rock/paper/scissor): ROCK\n",
            "Computer: rock\n",
            "Enter your choice (rock/paper/scissor): paper\n",
            "Computer: rock\n",
            "Enter your choice (rock/paper/scissor): SCISSOR\n",
            "Computer: paper\n",
            "It's a tie!\n"
          ]
        }
      ]
    }
  ]
}