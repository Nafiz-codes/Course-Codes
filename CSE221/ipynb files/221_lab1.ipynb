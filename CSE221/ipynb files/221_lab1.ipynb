{
  "nbformat": 4,
  "nbformat_minor": 0,
  "metadata": {
    "colab": {
      "provenance": []
    },
    "kernelspec": {
      "name": "python3",
      "display_name": "Python 3"
    },
    "language_info": {
      "name": "python"
    }
  },
  "cells": [
    {
      "cell_type": "code",
      "source": [
        "#task 1\n",
        "m=int(input())\n",
        "for i in range(m):\n",
        "    p=int(input())\n",
        "    if p%2==0:\n",
        "        print(p,\"is an Even number.\")\n",
        "    else:\n",
        "        print(p,\"is an Odd number.\")"
      ],
      "metadata": {
        "id": "wILRKAS6YZlN"
      },
      "execution_count": null,
      "outputs": []
    },
    {
      "cell_type": "code",
      "execution_count": null,
      "metadata": {
        "id": "fN_b3Tq-hFr-"
      },
      "outputs": [],
      "source": [
        "#task 2\n",
        "n=int(input())\n",
        "for i in range (n):\n",
        "    total=input().split()\n",
        "    number1=int(total[1])\n",
        "    number2=int(total[3])\n",
        "    sign=total[2]\n",
        "    if sign == '+':\n",
        "        result = number1 + number2\n",
        "    elif sign == '-':\n",
        "        result = number1 - number2\n",
        "    elif sign == '*':\n",
        "        result = number1 * number2\n",
        "    elif sign == '/':\n",
        "        result = number1 / number2\n",
        "\n",
        "    print(round(result,6))"
      ]
    },
    {
      "cell_type": "code",
      "source": [
        "#task 3\n",
        "T = int(input())\n",
        "for i in range(T):\n",
        "    N = int(input())\n",
        "    print(N*(N+1)//2)"
      ],
      "metadata": {
        "id": "PufRj_1ghN62"
      },
      "execution_count": null,
      "outputs": []
    },
    {
      "cell_type": "code",
      "source": [
        "#task 4\n",
        "n = int(input())\n",
        "for i in range(n):\n",
        "  m=int(input())\n",
        "  arrInput=input().split()\n",
        "  arr=[]\n",
        "  for i in arrInput:\n",
        "    arr.append(int(i))\n",
        "\n",
        "  flag=True\n",
        "  for i in range(len(arr)-1):\n",
        "    if arr[i]>arr[i+1]:\n",
        "      flag=False\n",
        "      break\n",
        "\n",
        "  if flag==True:\n",
        "    print(\"YES\")\n",
        "  else:\n",
        "    print(\"NO\")"
      ],
      "metadata": {
        "colab": {
          "base_uri": "https://localhost:8080/",
          "height": 356
        },
        "id": "nKlmqIWnoUVp",
        "outputId": "48c02b23-78f3-48b2-b124-ff1c96690a65"
      },
      "execution_count": null,
      "outputs": [
        {
          "output_type": "error",
          "ename": "KeyboardInterrupt",
          "evalue": "Interrupted by user",
          "traceback": [
            "\u001b[0;31m---------------------------------------------------------------------------\u001b[0m",
            "\u001b[0;31mKeyboardInterrupt\u001b[0m                         Traceback (most recent call last)",
            "\u001b[0;32m/tmp/ipython-input-18-2665857066.py\u001b[0m in \u001b[0;36m<cell line: 0>\u001b[0;34m()\u001b[0m\n\u001b[1;32m      1\u001b[0m \u001b[0;31m#task 4\u001b[0m\u001b[0;34m\u001b[0m\u001b[0;34m\u001b[0m\u001b[0m\n\u001b[0;32m----> 2\u001b[0;31m \u001b[0mn\u001b[0m \u001b[0;34m=\u001b[0m \u001b[0mint\u001b[0m\u001b[0;34m(\u001b[0m\u001b[0minput\u001b[0m\u001b[0;34m(\u001b[0m\u001b[0;34m)\u001b[0m\u001b[0;34m)\u001b[0m\u001b[0;34m\u001b[0m\u001b[0;34m\u001b[0m\u001b[0m\n\u001b[0m\u001b[1;32m      3\u001b[0m \u001b[0;32mfor\u001b[0m \u001b[0mi\u001b[0m \u001b[0;32min\u001b[0m \u001b[0mrange\u001b[0m\u001b[0;34m(\u001b[0m\u001b[0mn\u001b[0m\u001b[0;34m)\u001b[0m\u001b[0;34m:\u001b[0m\u001b[0;34m\u001b[0m\u001b[0;34m\u001b[0m\u001b[0m\n\u001b[1;32m      4\u001b[0m   \u001b[0mm\u001b[0m\u001b[0;34m=\u001b[0m\u001b[0mint\u001b[0m\u001b[0;34m(\u001b[0m\u001b[0minput\u001b[0m\u001b[0;34m(\u001b[0m\u001b[0;34m)\u001b[0m\u001b[0;34m)\u001b[0m\u001b[0;34m\u001b[0m\u001b[0;34m\u001b[0m\u001b[0m\n\u001b[1;32m      5\u001b[0m   \u001b[0marrInput\u001b[0m\u001b[0;34m=\u001b[0m\u001b[0minput\u001b[0m\u001b[0;34m(\u001b[0m\u001b[0;34m)\u001b[0m\u001b[0;34m.\u001b[0m\u001b[0msplit\u001b[0m\u001b[0;34m(\u001b[0m\u001b[0;34m)\u001b[0m\u001b[0;34m\u001b[0m\u001b[0;34m\u001b[0m\u001b[0m\n",
            "\u001b[0;32m/usr/local/lib/python3.11/dist-packages/ipykernel/kernelbase.py\u001b[0m in \u001b[0;36mraw_input\u001b[0;34m(self, prompt)\u001b[0m\n\u001b[1;32m   1175\u001b[0m                 \u001b[0;34m\"raw_input was called, but this frontend does not support input requests.\"\u001b[0m\u001b[0;34m\u001b[0m\u001b[0;34m\u001b[0m\u001b[0m\n\u001b[1;32m   1176\u001b[0m             )\n\u001b[0;32m-> 1177\u001b[0;31m         return self._input_request(\n\u001b[0m\u001b[1;32m   1178\u001b[0m             \u001b[0mstr\u001b[0m\u001b[0;34m(\u001b[0m\u001b[0mprompt\u001b[0m\u001b[0;34m)\u001b[0m\u001b[0;34m,\u001b[0m\u001b[0;34m\u001b[0m\u001b[0;34m\u001b[0m\u001b[0m\n\u001b[1;32m   1179\u001b[0m             \u001b[0mself\u001b[0m\u001b[0;34m.\u001b[0m\u001b[0m_parent_ident\u001b[0m\u001b[0;34m[\u001b[0m\u001b[0;34m\"shell\"\u001b[0m\u001b[0;34m]\u001b[0m\u001b[0;34m,\u001b[0m\u001b[0;34m\u001b[0m\u001b[0;34m\u001b[0m\u001b[0m\n",
            "\u001b[0;32m/usr/local/lib/python3.11/dist-packages/ipykernel/kernelbase.py\u001b[0m in \u001b[0;36m_input_request\u001b[0;34m(self, prompt, ident, parent, password)\u001b[0m\n\u001b[1;32m   1217\u001b[0m             \u001b[0;32mexcept\u001b[0m \u001b[0mKeyboardInterrupt\u001b[0m\u001b[0;34m:\u001b[0m\u001b[0;34m\u001b[0m\u001b[0;34m\u001b[0m\u001b[0m\n\u001b[1;32m   1218\u001b[0m                 \u001b[0;31m# re-raise KeyboardInterrupt, to truncate traceback\u001b[0m\u001b[0;34m\u001b[0m\u001b[0;34m\u001b[0m\u001b[0m\n\u001b[0;32m-> 1219\u001b[0;31m                 \u001b[0;32mraise\u001b[0m \u001b[0mKeyboardInterrupt\u001b[0m\u001b[0;34m(\u001b[0m\u001b[0;34m\"Interrupted by user\"\u001b[0m\u001b[0;34m)\u001b[0m \u001b[0;32mfrom\u001b[0m \u001b[0;32mNone\u001b[0m\u001b[0;34m\u001b[0m\u001b[0;34m\u001b[0m\u001b[0m\n\u001b[0m\u001b[1;32m   1220\u001b[0m             \u001b[0;32mexcept\u001b[0m \u001b[0mException\u001b[0m\u001b[0;34m:\u001b[0m\u001b[0;34m\u001b[0m\u001b[0;34m\u001b[0m\u001b[0m\n\u001b[1;32m   1221\u001b[0m                 \u001b[0mself\u001b[0m\u001b[0;34m.\u001b[0m\u001b[0mlog\u001b[0m\u001b[0;34m.\u001b[0m\u001b[0mwarning\u001b[0m\u001b[0;34m(\u001b[0m\u001b[0;34m\"Invalid Message:\"\u001b[0m\u001b[0;34m,\u001b[0m \u001b[0mexc_info\u001b[0m\u001b[0;34m=\u001b[0m\u001b[0;32mTrue\u001b[0m\u001b[0;34m)\u001b[0m\u001b[0;34m\u001b[0m\u001b[0;34m\u001b[0m\u001b[0m\n",
            "\u001b[0;31mKeyboardInterrupt\u001b[0m: Interrupted by user"
          ]
        }
      ]
    },
    {
      "cell_type": "code",
      "source": [
        "#task 5\n",
        "m=int(input())\n",
        "arrInput=input().split()\n",
        "arr=[]\n",
        "for i in arrInput:\n",
        "  arr.append(int(i))\n",
        "\n",
        "even=[]\n",
        "odd=[]\n",
        "merged=[]\n",
        "for i in range(m):\n",
        "    if i%2==0:\n",
        "      even.append(arr[i])\n",
        "    else:\n",
        "      odd.append(arr[i])\n",
        "\n",
        "sortedeven=sorted(even)\n",
        "sortedodd=sorted(odd)\n",
        "oddidx=0\n",
        "evenidx=0\n",
        "for i in range(m):\n",
        "  if i%2==0:\n",
        "      merged.append(sortedeven[evenidx])\n",
        "      evenidx+=1\n",
        "  else:\n",
        "      merged.append(sortedodd[oddidx])\n",
        "      oddidx+=1\n",
        "\n",
        "flag=True\n",
        "for i in range(m-1):\n",
        "  if merged[i]>merged[i+1]:\n",
        "    flag=False\n",
        "    break\n",
        "\n",
        "if flag==True:\n",
        "  print(\"YES\")\n",
        "else:\n",
        "  print(\"NO\")\n",
        "\n"
      ],
      "metadata": {
        "colab": {
          "base_uri": "https://localhost:8080/"
        },
        "id": "ldgu1yAFjfyY",
        "outputId": "95d56b65-172f-4a45-8527-b1bc3d0dff2e"
      },
      "execution_count": null,
      "outputs": [
        {
          "output_type": "stream",
          "name": "stdout",
          "text": [
            "6\n",
            "2 5 5 1 5 5\n",
            "NO\n"
          ]
        }
      ]
    },
    {
      "cell_type": "code",
      "source": [
        "#task 6\n",
        "m=int(input())\n",
        "arrInput=input().split()\n",
        "arr=[]\n",
        "for i in arrInput:\n",
        "  arr.append(int(i))\n",
        "\n",
        "flag=True\n",
        "while flag:\n",
        "  flag=False\n",
        "  for i in range(len(arr)-1):\n",
        "    if (arr[i]%2 == arr[i+1]%2) and (arr[i]>arr[i+1]):\n",
        "      arr[i],arr[i + 1]=arr[i + 1],arr[i]\n",
        "      flag=True\n",
        "\n",
        "for i in arr:\n",
        "  print(i, end=' ')"
      ],
      "metadata": {
        "colab": {
          "base_uri": "https://localhost:8080/"
        },
        "id": "eCaZLhdw3w2L",
        "outputId": "11b4c7b0-9814-4a4b-f96b-eae0c9baea22"
      },
      "execution_count": null,
      "outputs": [
        {
          "output_type": "stream",
          "name": "stdout",
          "text": [
            "5\n",
            "3 5 7 9 1\n",
            "1 3 5 7 9 "
          ]
        }
      ]
    },
    {
      "cell_type": "code",
      "source": [
        "#task 7\n",
        "n=int(input())\n",
        "student=[]\n",
        "swap=0\n",
        "id=input().split()\n",
        "marks=input().split()\n",
        "validID=[]\n",
        "validMark=[]\n",
        "for i in id:\n",
        "  validID.append(int(i))\n",
        "for i in marks:\n",
        "  validMark.append(int(i))\n",
        "\n",
        "for i in range(n):\n",
        "  a=(-validMark[i],validID[i],i)\n",
        "  student.append(a)\n",
        "sortedStudent=sorted(student)\n",
        "\n",
        "loc=[0]*n\n",
        "for i in range(n):\n",
        "    j=sortedStudent[i][2]\n",
        "    loc[j]=i\n",
        "\n",
        "track=[False]*n\n",
        "for i in range(n):\n",
        "  if track[i] or loc[i]==i:\n",
        "    continue\n",
        "  size=0\n",
        "  j=i\n",
        "  while not track[j]:\n",
        "      track[j] = True\n",
        "      j = loc[j]\n",
        "      size+=1\n",
        "\n",
        "  if size>1:\n",
        "    swap+=size-1\n",
        "\n",
        "print(f\"Minimum swaps: {swap}\")\n",
        "for i in range(n):\n",
        "  print(f\"ID: {sortedStudent[i][1]} Mark: {-sortedStudent[i][0]}\")\n",
        "\n"
      ],
      "metadata": {
        "colab": {
          "base_uri": "https://localhost:8080/"
        },
        "id": "s6cwTBoiAE0y",
        "outputId": "5a477e73-e181-409d-b186-de6ae8974449"
      },
      "execution_count": null,
      "outputs": [
        {
          "output_type": "stream",
          "name": "stdout",
          "text": [
            "7\n",
            "7 4 9 3 2 5 1\n",
            "40 50 50 20 10 10 10\n",
            "Minimum Swaps:4\n",
            "ID: 4 Mark: 50\n",
            "ID: 9 Mark: 50\n",
            "ID: 7 Mark: 40\n",
            "ID: 3 Mark: 20\n",
            "ID: 1 Mark: 10\n",
            "ID: 2 Mark: 10\n",
            "ID: 5 Mark: 10\n"
          ]
        }
      ]
    },
    {
      "cell_type": "code",
      "source": [
        "#task 8\n",
        "n=int(input())\n",
        "final=[]\n",
        "for i in range(n):\n",
        "  p=input()\n",
        "  m=p.split()\n",
        "  name=m[0]\n",
        "  time=m[6]\n",
        "  time1,time2=time.split(\":\")\n",
        "  newTime=int(time1)*60 + int(time2)\n",
        "  a=(name,-newTime,i,p)\n",
        "  final.append(a)\n",
        "\n",
        "sortedFinal=sorted(final)\n",
        "for i in sortedFinal:\n",
        "  print(i[3])"
      ],
      "metadata": {
        "colab": {
          "base_uri": "https://localhost:8080/"
        },
        "id": "ybjaNFp-Wq75",
        "outputId": "663f2370-d149-4457-df0b-8bb01318e652"
      },
      "execution_count": null,
      "outputs": [
        {
          "output_type": "stream",
          "name": "stdout",
          "text": [
            "8\n",
            "ABCD will departure for Mymensingh at 00:30\n",
            "DhumketuExpress will departure for Chittagong at 02:30\n",
            "ABC will departure for Dhaka at 17:30\n",
            "ABCD will departure for Chittagong at 01:00\n",
            "ABC will departure for Khulna at 03:00\n",
            "ABC will departure for Barisal at 03:00\n",
            "ABCE will departure for Sylhet at 23:05\n",
            "PadmaExpress will departure for Dhaka at 19:30\n",
            "ABC will departure for Dhaka at 17:30\n",
            "ABC will departure for Khulna at 03:00\n",
            "ABC will departure for Barisal at 03:00\n",
            "ABCD will departure for Chittagong at 01:00\n",
            "ABCD will departure for Mymensingh at 00:30\n",
            "ABCE will departure for Sylhet at 23:05\n",
            "DhumketuExpress will departure for Chittagong at 02:30\n",
            "PadmaExpress will departure for Dhaka at 19:30\n"
          ]
        }
      ]
    }
  ]
}