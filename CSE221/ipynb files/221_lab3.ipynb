{
  "nbformat": 4,
  "nbformat_minor": 0,
  "metadata": {
    "colab": {
      "provenance": []
    },
    "kernelspec": {
      "name": "python3",
      "display_name": "Python 3"
    },
    "language_info": {
      "name": "python"
    }
  },
  "cells": [
    {
      "cell_type": "code",
      "source": [
        "#task 1\n",
        "def mergeSort(arr, left, right):\n",
        "    count = 0\n",
        "    if left < right:\n",
        "\n",
        "        mid = (left + right) // 2\n",
        "        count += mergeSort(arr, left, mid)\n",
        "        count += mergeSort(arr, mid + 1, right)\n",
        "        count += merge(arr, left, mid, right)\n",
        "    return count\n",
        "\n",
        "def merge(arr, left, mid, right):\n",
        "    count = 0\n",
        "    temp = []\n",
        "    i, j = left, mid + 1\n",
        "\n",
        "    while i <= mid and j <= right:\n",
        "        if arr[i] <= arr[j]:\n",
        "            temp.append(arr[i])\n",
        "            i += 1\n",
        "        else:\n",
        "            temp.append(arr[j])\n",
        "            j += 1\n",
        "            count += (mid - i + 1)\n",
        "\n",
        "\n",
        "    while i <= mid:\n",
        "        temp.append(arr[i])\n",
        "        i += 1\n",
        "    while j <= right:\n",
        "        temp.append(arr[j])\n",
        "        j += 1\n",
        "    for k in range(len(temp)):\n",
        "        arr[left + k] = temp[k]\n",
        "\n",
        "    return count\n",
        "\n",
        "n = int(input())\n",
        "arr = list(map(int, input().split()))\n",
        "print(mergeSort(arr, 0, n - 1))\n",
        "print(\" \".join(map(str, arr)))"
      ],
      "metadata": {
        "id": "xEruFcifGuAe"
      },
      "execution_count": null,
      "outputs": []
    },
    {
      "cell_type": "code",
      "source": [
        "#task 2\n",
        "def mergeSort(arr):\n",
        "  if len(arr) <= 1:\n",
        "    return arr, 0\n",
        "\n",
        "  mid= len(arr)//2\n",
        "  left, leftcount = mergeSort(arr[:mid])\n",
        "  right, rightcount = mergeSort(arr[mid:])\n",
        "  rightSquared = sorted([x*x for x in right])\n",
        "  count= leftcount + rightcount\n",
        "  j=0\n",
        "  for i in range(len(left)):\n",
        "    while j<len(rightSquared) and left[i]>rightSquared[j]:\n",
        "      j += 1\n",
        "    count += j\n",
        "\n",
        "  merge =[]\n",
        "  i=0\n",
        "  j=0\n",
        "  while i < len(left) and j < len(right):\n",
        "    if left[i] <= right[j]:\n",
        "      merge.append(left[i])\n",
        "      i += 1\n",
        "    else:\n",
        "      merge.append(right[j])\n",
        "      j += 1\n",
        "\n",
        "  while i < len(left):\n",
        "    merge.append(left[i])\n",
        "    i+=1\n",
        "  while j < len(right):\n",
        "    merge.append(right[j])\n",
        "    j += 1\n",
        "\n",
        "  return merge, count\n",
        "\n",
        "n = int(input())\n",
        "arr = list(map(int, input().split()))\n",
        "listed, result = mergeSort(arr)\n",
        "print(result)"
      ],
      "metadata": {
        "colab": {
          "base_uri": "https://localhost:8080/"
        },
        "id": "oJKOXDLCyFVI",
        "outputId": "72814d55-d027-45d9-9b10-b9e36e50f18c"
      },
      "execution_count": null,
      "outputs": [
        {
          "output_type": "stream",
          "name": "stdout",
          "text": [
            "6\n",
            "10 2 5 1 -2 25\n",
            "7\n"
          ]
        }
      ]
    },
    {
      "cell_type": "code",
      "source": [
        "#task 3\n",
        "def pow(a, b):\n",
        "    ans = 1\n",
        "    while b > 0:\n",
        "        if b % 2 != 0:\n",
        "            ans *= a\n",
        "            b -= 1\n",
        "        else:\n",
        "            b = b//2\n",
        "            a *= (a%107)\n",
        "\n",
        "    return ans%107\n",
        "\n",
        "a, b = map(int, input().split())\n",
        "print(pow(a,b))"
      ],
      "metadata": {
        "id": "mt3ds4TW-HeD"
      },
      "execution_count": null,
      "outputs": []
    },
    {
      "cell_type": "code",
      "source": [
        "#task 4\n",
        "MOD = 10**9 + 7\n",
        "\n",
        "def mat_mult(A, B):\n",
        "     return [\n",
        "         [\n",
        "             (A[0][0]*B[0][0] + A[0][1]*B[1][0]) % MOD,\n",
        "             (A[0][0]*B[0][1] + A[0][1]*B[1][1]) % MOD\n",
        "         ],\n",
        "         [\n",
        "             (A[1][0]*B[0][0] + A[1][1]*B[1][0]) % MOD,\n",
        "             (A[1][0]*B[0][1] + A[1][1]*B[1][1]) % MOD\n",
        "         ]\n",
        "     ]\n",
        "\n",
        "def mat_pow(A, power):\n",
        "     result = [[1, 0], [0, 1]]\n",
        "     while power > 0:\n",
        "         if power % 2 == 1:\n",
        "             result = mat_mult(result, A)\n",
        "         A = mat_mult(A, A)\n",
        "         power //= 2\n",
        "     return result\n",
        "\n",
        "T = int(input())\n",
        "for _ in range(T):\n",
        "     a11, a12, a21, a22 = map(int, input().split())\n",
        "     X = int(input())\n",
        "     A = [[a11, a12], [a21, a22]]\n",
        "     AX = mat_pow(A, X)\n",
        "     print(AX[0][0], AX[0][1])\n",
        "     print(AX[1][0], AX[1][1])"
      ],
      "metadata": {
        "id": "XAjHgjSuA5-q"
      },
      "execution_count": null,
      "outputs": []
    },
    {
      "cell_type": "code",
      "source": [
        "#task 5\n",
        "def pow(a, n, m):\n",
        "    ans = 1\n",
        "    a = a % m\n",
        "    while n > 0:\n",
        "        if n % 2 != 0:\n",
        "            ans = (ans * a) % m\n",
        "        a = (a * a) % m\n",
        "        n //= 2\n",
        "    return ans\n",
        "\n",
        "def powsum(a, n, m):\n",
        "    if n == 0:\n",
        "        return 0\n",
        "    if n == 1:\n",
        "        return a % m\n",
        "\n",
        "    mid = n // 2\n",
        "    s = powsum(a, mid, m)\n",
        "    pow_mid = pow(a, mid, m)\n",
        "\n",
        "    if n % 2 == 0:\n",
        "        return (s + (pow_mid * s) % m) % m\n",
        "    else:\n",
        "        return (s + (pow_mid * s) % m + pow(a, n, m)) % m\n",
        "\n",
        "\n",
        "\n",
        "T = int(input())\n",
        "for _ in range(T):\n",
        "    a, n, m = map(int, input().split())\n",
        "    print(powsum(a, n, m))"
      ],
      "metadata": {
        "id": "DygVw5VdA_78"
      },
      "execution_count": null,
      "outputs": []
    },
    {
      "cell_type": "code",
      "source": [
        "#task 6\n",
        "def build_balanced_bst(arr, left, right, result):\n",
        "    if left > right:\n",
        "        return\n",
        "    mid = (left + right) // 2\n",
        "    result.append(arr[mid])\n",
        "    build_balanced_bst(arr, left, mid - 1, result)\n",
        "    build_balanced_bst(arr, mid + 1, right, result)\n",
        "\n",
        "\n",
        "n = int(input())\n",
        "arr = list(map(int, input().split()))\n",
        "result = []\n",
        "build_balanced_bst(arr, 0, n - 1, result)\n",
        "print(*result)"
      ],
      "metadata": {
        "id": "s0aw395-BFUr"
      },
      "execution_count": null,
      "outputs": []
    },
    {
      "cell_type": "code",
      "source": [
        "#task 7\n",
        "n = int(input())\n",
        "in_order = list(map(int, input().split()))\n",
        "pre_order = list(map(int, input().split()))\n",
        "\n",
        "def post_order(in_order, pre_order):\n",
        "    if not in_order:\n",
        "        return []\n",
        "\n",
        "    root = pre_order[0]\n",
        "\n",
        "    root_idx = in_order.index(root)\n",
        "\n",
        "    left_subtree = post_order(in_order[:root_idx], pre_order[1:root_idx+1])\n",
        "    right_subtree = post_order(in_order[root_idx+1:], pre_order[root_idx+1:])\n",
        "\n",
        "    return left_subtree + right_subtree + [root]\n",
        "\n",
        "\n",
        "print(*post_order(in_order, pre_order))"
      ],
      "metadata": {
        "id": "kY9g4RXNB_I2"
      },
      "execution_count": null,
      "outputs": []
    },
    {
      "cell_type": "code",
      "source": [
        "#task 8\n",
        "n = int(input())\n",
        "in_order = list(map(int, input().split()))\n",
        "post_order = list(map(int, input().split()))\n",
        "\n",
        "def pre_order(in_order, post_order):\n",
        "    if not in_order:\n",
        "        return []\n",
        "\n",
        "    root = post_order[-1]\n",
        "    root_idx = in_order.index(root)\n",
        "\n",
        "    left_subtree = pre_order(in_order[:root_idx], post_order[:root_idx])\n",
        "    right_subtree = pre_order(in_order[root_idx+1:], post_order[root_idx:-1])\n",
        "\n",
        "    return [root] + left_subtree + right_subtree\n",
        "\n",
        "print(*pre_order(in_order, post_order))\n"
      ],
      "metadata": {
        "id": "9WCuTTaApt5x"
      },
      "execution_count": null,
      "outputs": []
    }
  ]
}