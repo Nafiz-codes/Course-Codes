{
  "nbformat": 4,
  "nbformat_minor": 0,
  "metadata": {
    "colab": {
      "provenance": []
    },
    "kernelspec": {
      "name": "python3",
      "display_name": "Python 3"
    },
    "language_info": {
      "name": "python"
    }
  },
  "cells": [
    {
      "cell_type": "code",
      "execution_count": null,
      "metadata": {
        "colab": {
          "base_uri": "https://localhost:8080/"
        },
        "id": "nHS-beqTHAkN",
        "outputId": "604fec5d-30f6-4cf9-ca20-b0e9f4fe846d"
      },
      "outputs": [
        {
          "output_type": "stream",
          "name": "stdout",
          "text": [
            "4 10\n",
            "4\n"
          ]
        }
      ],
      "source": [
        "#task 1\n",
        "n=input().split()\n",
        "length=int(n[0])\n",
        "sum=int(n[1])\n",
        "arr=input().split()\n",
        "for i in range(length):\n",
        "  arr[i]=int(arr[i])\n",
        "\n",
        "idx1=0\n",
        "idx2=length-1\n",
        "flag=False\n",
        "while idx1<idx2:\n",
        "  current=arr[idx1]+arr[idx2]\n",
        "  if current==sum:\n",
        "    print(idx1+1,idx2+1)\n",
        "    flag=True\n",
        "    break\n",
        "  elif current<sum:\n",
        "    idx1+=1\n",
        "  else:\n",
        "    idx2-=1\n",
        "\n",
        "if flag==False:\n",
        "  print(-1)"
      ]
    },
    {
      "cell_type": "code",
      "source": [
        "#task 2\n",
        "p=input().split()\n",
        "n=int(p[0])\n",
        "m=int(p[1])\n",
        "k=int(p[2])\n",
        "A=[]\n",
        "B=[]\n",
        "Ain=input().split()\n",
        "Bin=input().split()\n",
        "for i in range(n):\n",
        "  A.append(int(Ain[i]))\n",
        "for i in range(m):\n",
        "  B.append(int(Bin[i]))\n",
        "\n",
        "i=0\n",
        "j=m-1\n",
        "\n",
        "storedDiff=float('infinity')\n",
        "besti=0\n",
        "bestj=0\n",
        "while i<n and j>=0:\n",
        "  sum=A[i]+B[j]\n",
        "  diff= abs(A[i] + B[j]-k)\n",
        "\n",
        "  if diff<storedDiff:\n",
        "    storedDiff=diff\n",
        "    besti=i\n",
        "    bestj=j\n",
        "  if sum>k:\n",
        "    j-=1\n",
        "  elif sum<k:\n",
        "    i+=1\n",
        "  else:\n",
        "    besti=i\n",
        "    bestj=j\n",
        "    break\n",
        "\n",
        "print(besti+1,bestj+1)"
      ],
      "metadata": {
        "id": "UliSGxiPboM-"
      },
      "execution_count": null,
      "outputs": []
    },
    {
      "cell_type": "code",
      "source": [
        "#task 3 time limit exceed, code okay\n",
        "p=input().split()\n",
        "Ain=input().split()\n",
        "n=int(p[0])\n",
        "sum=int(p[1])\n",
        "arr=[]\n",
        "for i in range(n):\n",
        "  arr.append(int(Ain[i]))\n",
        "\n",
        "i=0\n",
        "j=0\n",
        "k=n-1\n",
        "flag=False\n",
        "while i<n and k>=0:\n",
        "  curr=arr[i]+arr[k]\n",
        "  j=sum-curr\n",
        "  for kamikaze in range(i+1,k):\n",
        "    if arr[kamikaze]==j:\n",
        "      flag=True\n",
        "      print(i+1,kamikaze+1,k+1)\n",
        "      break\n",
        "\n",
        "  if curr>sum:\n",
        "    k-=1\n",
        "  elif curr<sum:\n",
        "    i+=1\n",
        "if flag==False:\n",
        "  print(-1)\n"
      ],
      "metadata": {
        "id": "GPJpxIi9jyZX"
      },
      "execution_count": null,
      "outputs": []
    },
    {
      "cell_type": "code",
      "source": [
        "#task 3 works for python 3 not pypy\n",
        "n = list(map(int, input().split()))\n",
        "arr = list(map(int, input().split()))\n",
        "target = n[1]\n",
        "num = n[0]\n",
        "\n",
        "found = False\n",
        "\n",
        "for i in range(num - 2):\n",
        "    seen = {}\n",
        "    current_target = target - arr[i]\n",
        "    for j in range(i + 1, num):\n",
        "        diff = current_target - arr[j]\n",
        "        if diff in seen:\n",
        "            print(i + 1, seen[diff] + 1, j + 1)\n",
        "            found = True\n",
        "            break\n",
        "        seen[arr[j]] = j\n",
        "    if found:\n",
        "        break\n",
        "\n",
        "if not found:\n",
        "    print(\"-1\")"
      ],
      "metadata": {
        "colab": {
          "base_uri": "https://localhost:8080/"
        },
        "id": "WdqHxoxn5_3e",
        "outputId": "a69c50c3-ca26-4c54-9a93-f9aeff550132"
      },
      "execution_count": null,
      "outputs": [
        {
          "output_type": "stream",
          "name": "stdout",
          "text": [
            "7 3\n",
            "2 1 1 2 2 1 1\n",
            "2 3 6\n"
          ]
        }
      ]
    },
    {
      "cell_type": "code",
      "source": [
        "#task 4\n",
        "n=int(input())\n",
        "arr1in=input().split()\n",
        "m=int(input())\n",
        "arr2in=input().split()\n",
        "arr1=[]\n",
        "arr2=[]\n",
        "for i in range(n):\n",
        "  arr1.append(int(arr1in[i]))\n",
        "for i in range(m):\n",
        "  arr2.append(int(arr2in[i]))\n",
        "\n",
        "merge=[]\n",
        "i=0\n",
        "j=0\n",
        "while i<n and j<m:\n",
        "  if arr1[i]<=arr2[j]:\n",
        "    merge.append(arr1[i])\n",
        "    i+=1\n",
        "  else:\n",
        "    merge.append(arr2[j])\n",
        "    j+=1\n",
        "\n",
        "while i<n:\n",
        "    merge.append(arr1[i])\n",
        "    i+=1\n",
        "\n",
        "while j<m:\n",
        "    merge.append(arr2[j])\n",
        "    j+=1\n",
        "\n",
        "for i in range(len(merge)):\n",
        "  print(merge[i], end=\" \")"
      ],
      "metadata": {
        "id": "VUDIvI2Bl5LU",
        "colab": {
          "base_uri": "https://localhost:8080/"
        },
        "outputId": "12915367-ef43-4c91-e830-fd21ef0a23e8"
      },
      "execution_count": null,
      "outputs": [
        {
          "output_type": "stream",
          "name": "stdout",
          "text": [
            "4\n",
            "1 3 5 7\n",
            "4\n",
            "2 2 4 8\n",
            "1 2 2 3 4 5 7 8 "
          ]
        }
      ]
    },
    {
      "cell_type": "code",
      "source": [
        "#task 4 alternative without inbuilt function\n",
        "n=int(input())\n",
        "arr1in=input().split()\n",
        "m=int(input())\n",
        "arr2in=input().split()\n",
        "arr1=[]\n",
        "arr2=[]\n",
        "for i in range(n):\n",
        "  arr1.append(int(arr1in[i]))\n",
        "for i in range(m):\n",
        "  arr2.append(int(arr2in[i]))\n",
        "\n",
        "merge=[]\n",
        "for i in range(n):\n",
        "  merge.append(arr1[i])\n",
        "\n",
        "for i in range(m):\n",
        "  merge.append(arr2[i])\n",
        "\n",
        "merge.sort()\n",
        "\n",
        "for i in range(len(merge)):\n",
        "  print(merge[i], end=\" \")"
      ],
      "metadata": {
        "id": "8hSDjZpptdcO",
        "colab": {
          "base_uri": "https://localhost:8080/"
        },
        "outputId": "2a320a76-c8f4-4006-d9c1-3fb546d096a9"
      },
      "execution_count": null,
      "outputs": [
        {
          "output_type": "stream",
          "name": "stdout",
          "text": [
            "4\n",
            "1 3 5 7\n",
            "4\n",
            "2 2 4 8\n",
            "1 2 2 3 4 5 7 8 "
          ]
        }
      ]
    },
    {
      "cell_type": "code",
      "source": [
        "#task 5\n",
        "n=input().split()\n",
        "length=int(n[0])\n",
        "sum=int(n[1])\n",
        "arr=input().split()\n",
        "for i in range(length):\n",
        "  arr[i]=int(arr[i])\n",
        "\n",
        "arrsum=0\n",
        "new=[]\n",
        "max=0\n",
        "j=0\n",
        "for i in range(length):\n",
        "  arrsum+=arr[i]\n",
        "  if arrsum<=sum:\n",
        "    new.append(arr[i])\n",
        "    if len(new)-j>max:\n",
        "      max=len(new)-j\n",
        "  else:\n",
        "    while arrsum>sum:\n",
        "      arrsum-=arr[j]\n",
        "      j+=1\n",
        "    new.append(arr[i])\n",
        "\n",
        "\n",
        "print(max)"
      ],
      "metadata": {
        "id": "t-9ObwpuqvvE",
        "colab": {
          "base_uri": "https://localhost:8080/",
          "height": 245
        },
        "outputId": "2b396780-9b77-4fd6-faf0-779b157c5cce"
      },
      "execution_count": null,
      "outputs": [
        {
          "name": "stdout",
          "output_type": "stream",
          "text": [
            "5 4\n",
            "4 1 2 1 5\n"
          ]
        },
        {
          "output_type": "error",
          "ename": "TypeError",
          "evalue": "'builtin_function_or_method' object is not subscriptable",
          "traceback": [
            "\u001b[0;31m---------------------------------------------------------------------------\u001b[0m",
            "\u001b[0;31mTypeError\u001b[0m                                 Traceback (most recent call last)",
            "\u001b[0;32m/tmp/ipython-input-3-1201702029.py\u001b[0m in \u001b[0;36m<cell line: 0>\u001b[0;34m()\u001b[0m\n\u001b[1;32m     21\u001b[0m       \u001b[0marrsum\u001b[0m\u001b[0;34m-=\u001b[0m\u001b[0marr\u001b[0m\u001b[0;34m[\u001b[0m\u001b[0mj\u001b[0m\u001b[0;34m]\u001b[0m\u001b[0;34m\u001b[0m\u001b[0;34m\u001b[0m\u001b[0m\n\u001b[1;32m     22\u001b[0m       \u001b[0mj\u001b[0m\u001b[0;34m+=\u001b[0m\u001b[0;36m1\u001b[0m\u001b[0;34m\u001b[0m\u001b[0;34m\u001b[0m\u001b[0m\n\u001b[0;32m---> 23\u001b[0;31m     \u001b[0mnew\u001b[0m\u001b[0;34m.\u001b[0m\u001b[0mappend\u001b[0m\u001b[0;34m[\u001b[0m\u001b[0marr\u001b[0m\u001b[0;34m[\u001b[0m\u001b[0mi\u001b[0m\u001b[0;34m]\u001b[0m\u001b[0;34m]\u001b[0m\u001b[0;34m\u001b[0m\u001b[0;34m\u001b[0m\u001b[0m\n\u001b[0m\u001b[1;32m     24\u001b[0m \u001b[0;34m\u001b[0m\u001b[0m\n\u001b[1;32m     25\u001b[0m \u001b[0;34m\u001b[0m\u001b[0m\n",
            "\u001b[0;31mTypeError\u001b[0m: 'builtin_function_or_method' object is not subscriptable"
          ]
        }
      ]
    },
    {
      "cell_type": "code",
      "source": [
        "#task 6\n",
        "n=list(map(int,input().split()))\n",
        "num=list(map(int,input().split()))\n",
        "dic={}\n",
        "max=0\n",
        "left=0\n",
        "for right in range(n[0]):\n",
        "  if num[right] in dic:\n",
        "    dic[num[right]]+=1\n",
        "  else:\n",
        "    dic[num[right]] = 1\n",
        "  while len(dic)>n[1]:\n",
        "    dic[num[left]]-=1\n",
        "    if dic[num[left]]==0:\n",
        "      dic.pop(num[left])\n",
        "    left+=1\n",
        "  if max<right-left+1:\n",
        "    max = right-left+1\n",
        "print(max)"
      ],
      "metadata": {
        "id": "k8IIVC5ksGL0",
        "colab": {
          "base_uri": "https://localhost:8080/"
        },
        "outputId": "215391ca-1fee-4f82-b17b-6b570aa867ab"
      },
      "execution_count": null,
      "outputs": [
        {
          "output_type": "stream",
          "name": "stdout",
          "text": [
            "4 1\n",
            "2 1 2 4\n",
            "1\n"
          ]
        }
      ]
    },
    {
      "cell_type": "code",
      "source": [
        "#task 7(time complexity n2)\n",
        "n=input().split()\n",
        "length=int(n[0])\n",
        "query=int(n[1])\n",
        "arr1=input().split()\n",
        "for i in range(length):\n",
        "  arr1[i]=int(arr1[i])\n",
        "\n",
        "for i in range(query):\n",
        "  arr2=input().split()\n",
        "  lower=int(arr2[0])\n",
        "  upper=int(arr2[1])\n",
        "  count=0\n",
        "  for j in range(length):\n",
        "    if lower<=arr1[j]<=upper:\n",
        "      count+=1\n",
        "  print(count)"
      ],
      "metadata": {
        "colab": {
          "base_uri": "https://localhost:8080/"
        },
        "id": "S_SRx2ZwsU10",
        "outputId": "b9dac653-0824-4102-bfd7-ca4665d66b82"
      },
      "execution_count": null,
      "outputs": [
        {
          "output_type": "stream",
          "name": "stdout",
          "text": [
            "5 3\n",
            "10 20 20 45 79\n",
            "20 50\n",
            "3\n",
            "5 45\n",
            "4\n",
            "1 100\n",
            "5\n"
          ]
        }
      ]
    },
    {
      "cell_type": "code",
      "source": [
        "#task 7 alternative(logn)\n",
        "n=input().split()\n",
        "length=int(n[0])\n",
        "query=int(n[1])\n",
        "arr1=input().split()\n",
        "for i in range(length):\n",
        "  arr1[i]=int(arr1[i])\n",
        "\n",
        "def binary_search(arr1,target,up):\n",
        "  low=0\n",
        "  high=len(arr1)\n",
        "\n",
        "  while low<high:\n",
        "    mid=(low+high)//2\n",
        "    if up:\n",
        "      if arr1[mid]<=target:\n",
        "        low=mid+1\n",
        "      else:\n",
        "        high=mid\n",
        "    else:\n",
        "      if arr1[mid]<target:\n",
        "        low=mid+1\n",
        "      else:\n",
        "        high=mid\n",
        "  return low\n",
        "\n",
        "for i in range(query):\n",
        "  arr2=input().split()\n",
        "  small=int(arr2[0])\n",
        "  big=int(arr2[1])\n",
        "  lower=binary_search(arr1,small,False)\n",
        "  upper=binary_search(arr1,big,True)\n",
        "  print(upper-lower)"
      ],
      "metadata": {
        "id": "_0in53HE70E9"
      },
      "execution_count": null,
      "outputs": []
    },
    {
      "cell_type": "code",
      "source": [
        "#task 8\n",
        "n=int(input())\n",
        "for i in range(n):\n",
        "  m=input().split()\n",
        "  k=int(m[0])\n",
        "  x=int(m[1])\n",
        "  if x==1:\n",
        "    print(k)\n",
        "  else:\n",
        "    ans=k+(k-1)//(x-1)\n",
        "    print(ans)\n"
      ],
      "metadata": {
        "id": "UkHFlh0cEBKa"
      },
      "execution_count": null,
      "outputs": []
    }
  ]
}