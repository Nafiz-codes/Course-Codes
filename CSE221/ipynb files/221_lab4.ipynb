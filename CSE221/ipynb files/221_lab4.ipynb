{
  "nbformat": 4,
  "nbformat_minor": 0,
  "metadata": {
    "colab": {
      "provenance": []
    },
    "kernelspec": {
      "name": "python3",
      "display_name": "Python 3"
    },
    "language_info": {
      "name": "python"
    }
  },
  "cells": [
    {
      "cell_type": "code",
      "execution_count": null,
      "metadata": {
        "colab": {
          "base_uri": "https://localhost:8080/"
        },
        "id": "um676W9mGz1K",
        "outputId": "b012cc36-41e2-4b2c-c4e9-b7b9c5b54c7f"
      },
      "outputs": [
        {
          "output_type": "stream",
          "name": "stdout",
          "text": [
            "6 7\n",
            "1 5 6\n",
            "6 3 5\n",
            "1 3 9\n",
            "3 4 7\n",
            "4 6 1\n",
            "5 6 8\n",
            "6 1 6\n",
            "0 0 9 0 6 0\n",
            "0 0 0 0 0 0\n",
            "0 0 0 7 0 0\n",
            "0 0 0 0 0 1\n",
            "0 0 0 0 0 8\n",
            "6 0 5 0 0 0\n"
          ]
        }
      ],
      "source": [
        "#task1 if numpy dont have problem\n",
        "import numpy as np\n",
        "n, m = map(int, input().split())\n",
        "mat = np.zeros((n, n), dtype=int)\n",
        "\n",
        "for i in range(m):\n",
        "  u, v, w = map(int, input().split())\n",
        "  mat[u-1][v-1] = w\n",
        "\n",
        "for row in mat:\n",
        "  print(*row)"
      ]
    },
    {
      "cell_type": "code",
      "source": [
        "#task 1\n",
        "n, m = map(int, input().split())\n",
        "mat = [[0] * n for _ in range(n)]\n",
        "\n",
        "for _ in range(m):\n",
        "    u, v, w = map(int, input().split())\n",
        "    mat[u-1][v-1] = w\n",
        "\n",
        "for row in mat:\n",
        "    print(' '.join(map(str, row)))"
      ],
      "metadata": {
        "id": "qO76UhswPaIr"
      },
      "execution_count": null,
      "outputs": []
    },
    {
      "cell_type": "code",
      "source": [
        "#task 2 some guy\n",
        "n, m = map(int, input().split())\n",
        "adj_list = {i: [] for i in range(1, n+1)}\n",
        "\n",
        "u_list = list(map(int, input().split()))\n",
        "v_list = list(map(int, input().split()))\n",
        "w_list = list(map(int, input().split()))\n",
        "\n",
        "for u, v, w in zip(u_list, v_list, w_list):\n",
        "  adj_list[u].append((v, w))\n",
        "\n",
        "for key in range(1, n+1):\n",
        "    if adj_list[key]:\n",
        "        print(f\"{key}: \", end=\"\")\n",
        "        print(\" \".join(f\"({v},{w})\" for v, w in adj_list[key]))\n",
        "    else:\n",
        "        print(f\"{key}:\")"
      ],
      "metadata": {
        "id": "1W115GmhHBWt"
      },
      "execution_count": null,
      "outputs": []
    },
    {
      "cell_type": "code",
      "source": [
        "#task 2 mine\n",
        "n, m = map(int, input().split())\n",
        "adj_list = {}\n",
        "for i in range(1, n + 1):\n",
        "  adj_list[i] = []\n",
        "\n",
        "u_list = list(map(int, input().split()))\n",
        "v_list = list(map(int, input().split()))\n",
        "w_list = list(map(int, input().split()))\n",
        "\n",
        "for u, v, w in zip(u_list, v_list, w_list):\n",
        "  adj_list[u].append((v, w))\n",
        "\n",
        "for key,value in adj_list.items():\n",
        "    print(f\"{key}: \", end=\" \")\n",
        "    print(*value)"
      ],
      "metadata": {
        "colab": {
          "base_uri": "https://localhost:8080/",
          "height": 373
        },
        "id": "mE9wWJ9jTUR9",
        "outputId": "764505b2-1a85-4c47-b4ef-a76f0ab093ae"
      },
      "execution_count": null,
      "outputs": [
        {
          "output_type": "error",
          "ename": "KeyboardInterrupt",
          "evalue": "Interrupted by user",
          "traceback": [
            "\u001b[0;31m---------------------------------------------------------------------------\u001b[0m",
            "\u001b[0;31mKeyboardInterrupt\u001b[0m                         Traceback (most recent call last)",
            "\u001b[0;32m/tmp/ipython-input-528971530.py\u001b[0m in \u001b[0;36m<cell line: 0>\u001b[0;34m()\u001b[0m\n\u001b[1;32m      1\u001b[0m \u001b[0;31m#task 2\u001b[0m\u001b[0;34m\u001b[0m\u001b[0;34m\u001b[0m\u001b[0m\n\u001b[0;32m----> 2\u001b[0;31m \u001b[0mn\u001b[0m\u001b[0;34m,\u001b[0m \u001b[0mm\u001b[0m \u001b[0;34m=\u001b[0m \u001b[0mmap\u001b[0m\u001b[0;34m(\u001b[0m\u001b[0mint\u001b[0m\u001b[0;34m,\u001b[0m \u001b[0minput\u001b[0m\u001b[0;34m(\u001b[0m\u001b[0;34m)\u001b[0m\u001b[0;34m.\u001b[0m\u001b[0msplit\u001b[0m\u001b[0;34m(\u001b[0m\u001b[0;34m)\u001b[0m\u001b[0;34m)\u001b[0m\u001b[0;34m\u001b[0m\u001b[0;34m\u001b[0m\u001b[0m\n\u001b[0m\u001b[1;32m      3\u001b[0m \u001b[0madj_list\u001b[0m \u001b[0;34m=\u001b[0m \u001b[0;34m{\u001b[0m\u001b[0mi\u001b[0m\u001b[0;34m:\u001b[0m \u001b[0;34m[\u001b[0m\u001b[0;34m]\u001b[0m \u001b[0;32mfor\u001b[0m \u001b[0mi\u001b[0m \u001b[0;32min\u001b[0m \u001b[0mrange\u001b[0m\u001b[0;34m(\u001b[0m\u001b[0;36m1\u001b[0m\u001b[0;34m,\u001b[0m \u001b[0mn\u001b[0m\u001b[0;34m+\u001b[0m\u001b[0;36m1\u001b[0m\u001b[0;34m)\u001b[0m\u001b[0;34m}\u001b[0m\u001b[0;34m\u001b[0m\u001b[0;34m\u001b[0m\u001b[0m\n\u001b[1;32m      4\u001b[0m \u001b[0;34m\u001b[0m\u001b[0m\n\u001b[1;32m      5\u001b[0m \u001b[0mu_list\u001b[0m \u001b[0;34m=\u001b[0m \u001b[0mlist\u001b[0m\u001b[0;34m(\u001b[0m\u001b[0mmap\u001b[0m\u001b[0;34m(\u001b[0m\u001b[0mint\u001b[0m\u001b[0;34m,\u001b[0m \u001b[0minput\u001b[0m\u001b[0;34m(\u001b[0m\u001b[0;34m)\u001b[0m\u001b[0;34m.\u001b[0m\u001b[0msplit\u001b[0m\u001b[0;34m(\u001b[0m\u001b[0;34m)\u001b[0m\u001b[0;34m)\u001b[0m\u001b[0;34m)\u001b[0m\u001b[0;34m\u001b[0m\u001b[0;34m\u001b[0m\u001b[0m\n",
            "\u001b[0;32m/usr/local/lib/python3.11/dist-packages/ipykernel/kernelbase.py\u001b[0m in \u001b[0;36mraw_input\u001b[0;34m(self, prompt)\u001b[0m\n\u001b[1;32m   1175\u001b[0m                 \u001b[0;34m\"raw_input was called, but this frontend does not support input requests.\"\u001b[0m\u001b[0;34m\u001b[0m\u001b[0;34m\u001b[0m\u001b[0m\n\u001b[1;32m   1176\u001b[0m             )\n\u001b[0;32m-> 1177\u001b[0;31m         return self._input_request(\n\u001b[0m\u001b[1;32m   1178\u001b[0m             \u001b[0mstr\u001b[0m\u001b[0;34m(\u001b[0m\u001b[0mprompt\u001b[0m\u001b[0;34m)\u001b[0m\u001b[0;34m,\u001b[0m\u001b[0;34m\u001b[0m\u001b[0;34m\u001b[0m\u001b[0m\n\u001b[1;32m   1179\u001b[0m             \u001b[0mself\u001b[0m\u001b[0;34m.\u001b[0m\u001b[0m_parent_ident\u001b[0m\u001b[0;34m[\u001b[0m\u001b[0;34m\"shell\"\u001b[0m\u001b[0;34m]\u001b[0m\u001b[0;34m,\u001b[0m\u001b[0;34m\u001b[0m\u001b[0;34m\u001b[0m\u001b[0m\n",
            "\u001b[0;32m/usr/local/lib/python3.11/dist-packages/ipykernel/kernelbase.py\u001b[0m in \u001b[0;36m_input_request\u001b[0;34m(self, prompt, ident, parent, password)\u001b[0m\n\u001b[1;32m   1217\u001b[0m             \u001b[0;32mexcept\u001b[0m \u001b[0mKeyboardInterrupt\u001b[0m\u001b[0;34m:\u001b[0m\u001b[0;34m\u001b[0m\u001b[0;34m\u001b[0m\u001b[0m\n\u001b[1;32m   1218\u001b[0m                 \u001b[0;31m# re-raise KeyboardInterrupt, to truncate traceback\u001b[0m\u001b[0;34m\u001b[0m\u001b[0;34m\u001b[0m\u001b[0m\n\u001b[0;32m-> 1219\u001b[0;31m                 \u001b[0;32mraise\u001b[0m \u001b[0mKeyboardInterrupt\u001b[0m\u001b[0;34m(\u001b[0m\u001b[0;34m\"Interrupted by user\"\u001b[0m\u001b[0;34m)\u001b[0m \u001b[0;32mfrom\u001b[0m \u001b[0;32mNone\u001b[0m\u001b[0;34m\u001b[0m\u001b[0;34m\u001b[0m\u001b[0m\n\u001b[0m\u001b[1;32m   1220\u001b[0m             \u001b[0;32mexcept\u001b[0m \u001b[0mException\u001b[0m\u001b[0;34m:\u001b[0m\u001b[0;34m\u001b[0m\u001b[0;34m\u001b[0m\u001b[0m\n\u001b[1;32m   1221\u001b[0m                 \u001b[0mself\u001b[0m\u001b[0;34m.\u001b[0m\u001b[0mlog\u001b[0m\u001b[0;34m.\u001b[0m\u001b[0mwarning\u001b[0m\u001b[0;34m(\u001b[0m\u001b[0;34m\"Invalid Message:\"\u001b[0m\u001b[0;34m,\u001b[0m \u001b[0mexc_info\u001b[0m\u001b[0;34m=\u001b[0m\u001b[0;32mTrue\u001b[0m\u001b[0;34m)\u001b[0m\u001b[0;34m\u001b[0m\u001b[0;34m\u001b[0m\u001b[0m\n",
            "\u001b[0;31mKeyboardInterrupt\u001b[0m: Interrupted by user"
          ]
        }
      ]
    },
    {
      "cell_type": "code",
      "source": [
        "#task 3\n",
        "n = int(input())\n",
        "adj_mat = [[0] * n for _ in range(n)]\n",
        "for i in range(n):\n",
        "    list1 = list(map(int, input().split()))\n",
        "    for j in range(list1[0]):\n",
        "        adj_mat[i][list1[j+1]] = 1\n",
        "\n",
        "for row in adj_mat:\n",
        "    print(' '.join(map(str, row)))"
      ],
      "metadata": {
        "id": "TamsiV8eHXe6"
      },
      "execution_count": null,
      "outputs": []
    },
    {
      "cell_type": "code",
      "source": [
        "#task 4\n",
        "N, M = map(int, input().split())\n",
        "u = list(map(int, input().split()))\n",
        "v = list(map(int, input().split()))\n",
        "\n",
        "degree = [0] * (N + 1)\n",
        "\n",
        "for i in range(M):\n",
        "    degree[u[i]] += 1\n",
        "    degree[v[i]] += 1\n",
        "\n",
        "odd_count = sum(1 for d in degree if d % 2 != 0)\n",
        "\n",
        "print(\"YES\" if odd_count == 0 or odd_count == 2 else \"NO\")"
      ],
      "metadata": {
        "id": "Qdo73SvAHwsm"
      },
      "execution_count": null,
      "outputs": []
    },
    {
      "cell_type": "code",
      "source": [
        "#task 5 some guy\n",
        "n, m = map(int, input().split())\n",
        "adj_list = {i: 0 for i in range(1, n+1)}\n",
        "\n",
        "u_list = list(map(int, input().split()))\n",
        "v_list = list(map(int, input().split()))\n",
        "\n",
        "for u, v in zip(u_list, v_list):\n",
        "    adj_list[u] -= 1\n",
        "    adj_list[v] += 1\n",
        "\n",
        "print(*adj_list.values())"
      ],
      "metadata": {
        "id": "P-tECmT_HyHU"
      },
      "execution_count": null,
      "outputs": []
    },
    {
      "cell_type": "code",
      "source": [
        "#task 5 mine\n",
        "n, m = map(int, input().split())\n",
        "adj_list = {}\n",
        "for i in range(1, n + 1):\n",
        "  adj_list[i] = 0\n",
        "\n",
        "u_list = list(map(int, input().split()))\n",
        "v_list = list(map(int, input().split()))\n",
        "\n",
        "for u, v in zip(u_list, v_list):\n",
        "    adj_list[u] -= 1\n",
        "    adj_list[v] += 1\n",
        "\n",
        "print(*adj_list.values())"
      ],
      "metadata": {
        "id": "O9bBzLi0eFLa"
      },
      "execution_count": null,
      "outputs": []
    },
    {
      "cell_type": "code",
      "source": [
        "#task 6\n",
        "size = int(input())\n",
        "n, m = map(int, input().split())\n",
        "list1 = []\n",
        "for i in range(n-1, n+2):\n",
        "  for j in range(m-1, m+2):\n",
        "    if (i > 0 and i <= size and j > 0 and j <= size) and (i, j) != (n, m):\n",
        "      list1.append((i, j))\n",
        "\n",
        "print(len(list1))\n",
        "for i in list1:\n",
        "    print(i[0], i[1])"
      ],
      "metadata": {
        "id": "jdPLOXMLH21j"
      },
      "execution_count": null,
      "outputs": []
    },
    {
      "cell_type": "code",
      "source": [
        "#task 7 time limit exceeded\n",
        "n, m, k = map(int, input().split())\n",
        "knight = []\n",
        "for i in range(k):\n",
        "  a, b = map(int, input().split())\n",
        "  knight.append((a, b))\n",
        "\n",
        "possible_moves=[\n",
        "    (2, 1), (2, -1), (-2, 1), (-2, -1),\n",
        "    (1, 2), (1, -2), (-1, 2), (-1, -2)\n",
        "]\n",
        "\n",
        "flag = False\n",
        "for a, b in knight:\n",
        "  for u,v in possible_moves:\n",
        "    na = a + u\n",
        "    nb = b + v\n",
        "    if (na,nb) in knight:\n",
        "      flag = True\n",
        "      break\n",
        "  if flag:\n",
        "    break\n",
        "\n",
        "if flag:\n",
        "  print(\"YES\")\n",
        "else:\n",
        "  print(\"NO\")"
      ],
      "metadata": {
        "id": "-Nu7ucRyH71g"
      },
      "execution_count": null,
      "outputs": []
    },
    {
      "cell_type": "code",
      "source": [
        "#task 7\n",
        "n, m, k = map(int, input().split())\n",
        "knight = []\n",
        "for i in range(k):\n",
        "  a, b = map(int, input().split())\n",
        "  knight.append((a, b))\n",
        "\n",
        "knight_set = set(knight)\n",
        "possible_moves=[\n",
        "    (2, 1), (2, -1), (-2, 1), (-2, -1),\n",
        "    (1, 2), (1, -2), (-1, 2), (-1, -2)\n",
        "]\n",
        "\n",
        "flag = False\n",
        "for a, b in knight:\n",
        "  for u,v in possible_moves:\n",
        "    na = a + u\n",
        "    nb = b + v\n",
        "    if (na,nb) in knight_set:\n",
        "      flag = True\n",
        "      break\n",
        "  if flag:\n",
        "    break\n",
        "\n",
        "if flag:\n",
        "  print(\"YES\")\n",
        "else:\n",
        "  print(\"NO\")"
      ],
      "metadata": {
        "id": "OiNVq2BmiyEI"
      },
      "execution_count": null,
      "outputs": []
    },
    {
      "cell_type": "code",
      "source": [
        "#task 8\n",
        "from math import gcd\n",
        "n, k = map(int, input().split())\n",
        "list1 = [[0] for _ in range(n+1)]\n",
        "c = 1\n",
        "for i in range(1, n+1):\n",
        "    for j in range(1, n+1):\n",
        "        if gcd(i, j) == 1 and i != j:\n",
        "            list1[c].append(j)\n",
        "    c += 1\n",
        "\n",
        "\n",
        "for _ in range(k):\n",
        "    x, y = map(int, input().split())\n",
        "    if y < len(list1[x]):\n",
        "        print(list1[x][y])\n",
        "    else:\n",
        "        print(-1)"
      ],
      "metadata": {
        "id": "metb5eYGIBSl"
      },
      "execution_count": null,
      "outputs": []
    }
  ]
}